{
 "cells": [
  {
   "cell_type": "code",
   "execution_count": 1,
   "id": "d740c597-cbcc-42a9-be90-ea76036630a7",
   "metadata": {
    "tags": []
   },
   "outputs": [],
   "source": [
    "import numpy as np"
   ]
  },
  {
   "cell_type": "code",
   "execution_count": 2,
   "id": "07b1dac8-6a4f-4228-a4ac-5eced1ccba36",
   "metadata": {
    "tags": []
   },
   "outputs": [],
   "source": [
    "def f(x):\n",
    "    return (2*x**2+2)"
   ]
  },
  {
   "cell_type": "code",
   "execution_count": 3,
   "id": "5452fca1-ffe3-4cc7-b81e-5d598a42e76d",
   "metadata": {
    "tags": []
   },
   "outputs": [
    {
     "name": "stdout",
     "output_type": "stream",
     "text": [
      "[-2.   -1.75 -1.5  -1.25 -1.   -0.75 -0.5  -0.25  0.    0.25  0.5   0.75\n",
      "  1.    1.25  1.5   1.75  2.  ]\n"
     ]
    }
   ],
   "source": [
    "x = np.arange(-2,2.1,0.25)\n",
    "print(x)"
   ]
  },
  {
   "cell_type": "code",
   "execution_count": 5,
   "id": "ddbdee49-e98b-4a77-946c-0b257f276fd8",
   "metadata": {
    "tags": []
   },
   "outputs": [],
   "source": [
    "x=np.arange(-2,5,0.25)"
   ]
  },
  {
   "cell_type": "code",
   "execution_count": null,
   "id": "8664dd8d-6033-4fb0-892d-a3371d0d6e87",
   "metadata": {},
   "outputs": [],
   "source": []
  }
 ],
 "metadata": {
  "kernelspec": {
   "display_name": "Python 3 (ipykernel)",
   "language": "python",
   "name": "python3"
  },
  "language_info": {
   "codemirror_mode": {
    "name": "ipython",
    "version": 3
   },
   "file_extension": ".py",
   "mimetype": "text/x-python",
   "name": "python",
   "nbconvert_exporter": "python",
   "pygments_lexer": "ipython3",
   "version": "3.9.13"
  }
 },
 "nbformat": 4,
 "nbformat_minor": 5
}
