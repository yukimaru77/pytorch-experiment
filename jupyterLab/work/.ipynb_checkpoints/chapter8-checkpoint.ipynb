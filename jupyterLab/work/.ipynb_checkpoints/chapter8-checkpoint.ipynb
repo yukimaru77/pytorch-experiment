{
 "cells": [
  {
   "cell_type": "code",
   "execution_count": null,
   "metadata": {},
   "outputs": [],
   "source": [
    "import numpy as np          # 数値計算ライブラリ\n",
    "import matplotlib.pyplot as plt    # グラフ描画ライブラリ\n",
    "import torch                 # 機械学習ライブラリPyTorch\n",
    "from torch import nn        # PyTorchのニューラルネットワークモジュール\n",
    "from torchviz import make_dot      # PyTorchのグラフ可視化ツール\n",
    "import japanize_matplotlib  # matplotlibの日本語表示を可能にするライブラリ\n",
    "import torch.optim as optim # PyTorchの最適化アルゴリズムを定義するoptimモジュール\n",
    "import pandas as pd         # データフレーム処理のためのライブラリ\n",
    "import sklearn              # 機械学習ライブラリscikit-learn\n",
    "from torchinfo import summary   # モデルのサマリー情報を表示するためのライブラリ\n",
    "from sklearn.model_selection import train_test_split  # データのトレーニングとテストの分割を行う関数\n",
    "from sklearn.metrics import accuracy_score   # 正解率を計算するための関数\n",
    "\n",
    "\n",
    "# 以下可視性のために定義。\n",
    "import inspect # フレームを取得するためのライブラリ\n",
    "from IPython.display import display # データフレームを表示するためのライブラリ\n",
    "\n",
    "# 引数の変数名を出力する変数。ただし仕様上、関数を呼び出した場所と同スコープの変数なら1。その一個上なら2，さらにひとつ上なら3にしなければならない。\n",
    "def print_var_name(var,n=1):\n",
    "    # 現在のフレームを取得する\n",
    "    current_frame = inspect.currentframe()\n",
    "    # 現在のフレームのn回外側のフレームを取得する\n",
    "    outer_frame = current_frame\n",
    "    for _ in range(n):\n",
    "        outer_frame =outer_frame.f_back\n",
    "    # 外側のフレームのローカル変数を取得する。2次元タプル?がずらっと配列で並んでいる。\n",
    "    locals_dict = outer_frame.f_locals\n",
    "    # 変数名を取得する\n",
    "    var_name = [k for k, v in locals_dict.items() if v is var]\n",
    "    if not var_name:\n",
    "        print(\"変数が見つかりませんでした。\")\n",
    "    else:\n",
    "        # 変数名を出力する\n",
    "        print(\"変数名 : \",var_name[0],\" 変数型は \",type(var))\n",
    "\n",
    "def dataframe_converter(func):\n",
    "    def wrapper(*args, **kwargs):\n",
    "        for arg in args:\n",
    "            \n",
    "            try:\n",
    "                print(\"形状は\",arg.shape)\n",
    "            except:\n",
    "                pass\n",
    "\n",
    "            try:\n",
    "                # 引数がNumPy配列の場合はPandasデータフレームに変換する\n",
    "                print_var_name(arg,2)\n",
    "                if isinstance(arg, np.ndarray):\n",
    "                    df = pd.DataFrame(arg)\n",
    "                    # デコレータで修飾された関数にデータフレームを渡す\n",
    "                    func(df)\n",
    "                elif isinstance(arg, torch.Tensor):\n",
    "                    df = pd.DataFrame(arg.detach().numpy())\n",
    "                    # デコレータで修飾された関数にデータフレームを渡す\n",
    "                    func(df)\n",
    "                elif isinstance(arg, sklearn.utils.Bunch):\n",
    "                    df = pd.DataFrame(arg.data, columns=arg.feature_names)\n",
    "                    # デコレータで修飾された関数にデータフレームを渡す\n",
    "                    func(df)\n",
    "                else:\n",
    "                    # デコレータで修飾された関数にそのままのオブジェクトを渡す\n",
    "                    func(arg)\n",
    "            except:\n",
    "                # デコレータで修飾された関数にそのままのオブジェクトを渡す\n",
    "                func(arg)\n",
    "    return wrapper\n",
    "\n",
    "@dataframe_converter\n",
    "def display_custom(obj,head=True): # 引数のオブジェクトを表示する。可視性を高めるためにpdに変更するがおそらく大規模の場合は乱用はパフォーマンスに影響する。\n",
    "    # 引数のオブジェクトを表示する\n",
    "    if head and isinstance(obj, pd.DataFrame):\n",
    "        display(obj.head())\n",
    "        \n",
    "    else:\n",
    "        display(obj)"
   ]
  },
  {
   "cell_type": "code",
   "execution_count": null,
   "metadata": {},
   "outputs": [],
   "source": [
    "# デバイスの設定\n",
    "device = torch.device(\"cuda\" if torch.cuda.is_available() else \"cpu\")\n",
    "print(\"使用デバイス：\", torch.cuda.is_available())"
   ]
  },
  {
   "cell_type": "code",
   "execution_count": null,
   "metadata": {},
   "outputs": [],
   "source": [
    "!cuda --version"
   ]
  },
  {
   "cell_type": "code",
   "execution_count": null,
   "metadata": {},
   "outputs": [],
   "source": []
  }
 ],
 "metadata": {
  "kernelspec": {
   "display_name": "Python 3 (ipykernel)",
   "language": "python",
   "name": "python3"
  },
  "language_info": {
   "codemirror_mode": {
    "name": "ipython",
    "version": 3
   },
   "file_extension": ".py",
   "mimetype": "text/x-python",
   "name": "python",
   "nbconvert_exporter": "python",
   "pygments_lexer": "ipython3",
   "version": "3.9.13"
  },
  "orig_nbformat": 4
 },
 "nbformat": 4,
 "nbformat_minor": 2
}
