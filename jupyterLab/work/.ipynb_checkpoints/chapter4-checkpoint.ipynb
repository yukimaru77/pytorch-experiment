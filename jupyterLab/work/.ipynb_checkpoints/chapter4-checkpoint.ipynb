{
 "cells": [
  {
   "cell_type": "markdown",
   "id": "fda5a34a-c180-4b3f-9890-f1718e4d4116",
   "metadata": {
    "tags": []
   },
   "source": [
    "# カスタムクラスを使ってみよう"
   ]
  },
  {
   "cell_type": "code",
   "execution_count": 59,
   "id": "e38bdb40-b1cc-4e09-a34c-bc72053f8726",
   "metadata": {
    "tags": []
   },
   "outputs": [
    {
     "name": "stdout",
     "output_type": "stream",
     "text": [
      "Collecting torchinfo\n",
      "  Downloading torchinfo-1.7.2-py3-none-any.whl (22 kB)\n",
      "Installing collected packages: torchinfo\n",
      "Successfully installed torchinfo-1.7.2\n",
      "\u001b[33mWARNING: Running pip as the 'root' user can result in broken permissions and conflicting behaviour with the system package manager. It is recommended to use a virtual environment instead: https://pip.pypa.io/warnings/venv\u001b[0m\u001b[33m\n",
      "\u001b[0m"
     ]
    }
   ],
   "source": [
    "!pip install torchinfo"
   ]
  },
  {
   "cell_type": "code",
   "execution_count": 60,
   "id": "456be53b-3e63-4833-bc7f-5c57d32263d1",
   "metadata": {
    "tags": []
   },
   "outputs": [],
   "source": [
    "import numpy as np\n",
    "import matplotlib.pyplot as plt\n",
    "import torch\n",
    "from torch import nn\n",
    "from torchviz import make_dot\n",
    "import japanize_matplotlib\n",
    "import torch.optim as optim\n",
    "import pandas as pd\n",
    "from torchinfo import summary\n",
    "\n",
    "# 以下可視性のために定義。\n",
    "import inspect\n",
    "from IPython.display import display\n",
    "# 引数の変数名を出力する変数。ただし仕様上、関数を呼び出した場所と同スコープの変数なら1。その一個上なら2，さらにひとつ上なら3にしなければならない。\n",
    "def print_var_name(var,n=1):\n",
    "    \"\"\"\n",
    "    受け取った変数の変数名を出力する関数\n",
    "    \"\"\"\n",
    "    # 現在のフレームを取得する\n",
    "    current_frame = inspect.currentframe()\n",
    "    # 現在のフレームのn回外側のフレームを取得する\n",
    "    outer_frame = current_frame\n",
    "    for _ in range(n):\n",
    "        outer_frame =outer_frame.f_back\n",
    "    # 外側のフレームのローカル変数を取得する。2次元タプル?がずらっと配列で並んでいる。\n",
    "    locals_dict = outer_frame.f_locals\n",
    "    # 変数名を取得する\n",
    "    var_name = [k for k, v in locals_dict.items() if v is var]\n",
    "    if not var_name:\n",
    "        print(\"変数が見つかりませんでした。\")\n",
    "    else:\n",
    "        # 変数名を出力する\n",
    "        print(\"変数名 : \",var_name[0])\n",
    "\n",
    "def dataframe_converter(func):\n",
    "    def wrapper(*args, **kwargs):\n",
    "        for arg in args:\n",
    "            # 引数がNumPy配列の場合はPandasデータフレームに変換する\n",
    "            print_var_name(arg,2)\n",
    "            if isinstance(arg, np.ndarray):\n",
    "                df = pd.DataFrame(arg)\n",
    "                # デコレータで修飾された関数にデータフレームを渡す\n",
    "                func(df)\n",
    "            else:\n",
    "                # デコレータで修飾された関数にそのままのオブジェクトを渡す\n",
    "                func(arg)\n",
    "    return wrapper\n",
    "\n",
    "@dataframe_converter\n",
    "def display_custom(obj):\n",
    "    # 引数のオブジェクトを表示する\n",
    "    display(obj)"
   ]
  },
  {
   "cell_type": "markdown",
   "id": "ae289a2d-28a5-4437-b4ba-3e6c904379e2",
   "metadata": {},
   "source": [
    "## 1入力1出力線形関数"
   ]
  },
  {
   "cell_type": "code",
   "execution_count": 2,
   "id": "f2f3df3a-b941-4132-8c04-cd55fd03f64b",
   "metadata": {
    "tags": []
   },
   "outputs": [
    {
     "name": "stdout",
     "output_type": "stream",
     "text": [
      "Linear(in_features=1, out_features=1, bias=True)\n",
      "name:  weight\n",
      "tensor:  Parameter containing:\n",
      "tensor([[-0.4078]], requires_grad=True)\n",
      "shape:  torch.Size([1, 1])\n",
      "name:  bias\n",
      "tensor:  Parameter containing:\n",
      "tensor([0.0331], requires_grad=True)\n",
      "shape:  torch.Size([1])\n"
     ]
    }
   ],
   "source": [
    "# 乱数のシードを123に設定する\n",
    "torch.manual_seed(123)\n",
    "\n",
    "# 入力サイズ1、出力サイズ1の線形層を定義する\n",
    "l1=nn.Linear(1,1)\n",
    "\n",
    "# l1の情報を表示する\n",
    "print(l1)\n",
    "\n",
    "# l1のパラメータを1つずつ表示する\n",
    "for param in l1.named_parameters():\n",
    "    print('name: ',param[0]) # パラメータの名前\n",
    "    print('tensor: ',param[1]) # パラメータの値\n",
    "    print('shape: ',param[1].shape) # パラメータの形状"
   ]
  },
  {
   "cell_type": "code",
   "execution_count": 3,
   "id": "a023f04c-265a-4ac9-bd72-da936ca79c69",
   "metadata": {
    "tags": []
   },
   "outputs": [
    {
     "name": "stdout",
     "output_type": "stream",
     "text": [
      "Parameter containing:\n",
      "tensor([[2.]], requires_grad=True)\n",
      "Parameter containing:\n",
      "tensor([1.], requires_grad=True)\n"
     ]
    }
   ],
   "source": [
    "# l1の重みとバイアスを定数で初期化する\n",
    "nn.init.constant_(l1.weight,2.0)\n",
    "nn.init.constant_(l1.bias,1.0)\n",
    "\n",
    "# l1の重みとバイアスの値を表示する\n",
    "print(l1.weight)\n",
    "print(l1.bias)"
   ]
  },
  {
   "cell_type": "code",
   "execution_count": 4,
   "id": "bdf6d1a9-f9dc-40ab-9e44-f77cb3c0e32e",
   "metadata": {
    "tags": []
   },
   "outputs": [
    {
     "name": "stdout",
     "output_type": "stream",
     "text": [
      "torch.Size([5, 1])\n",
      "tensor([[-2.],\n",
      "        [-1.],\n",
      "        [ 0.],\n",
      "        [ 1.],\n",
      "        [ 2.]])\n"
     ]
    }
   ],
   "source": [
    "# -2から2までの値を1刻みで生成する\n",
    "x_np = np.arange(-2,2.1,1)\n",
    "\n",
    "# numpy配列をPyTorchのテンソルに変換する\n",
    "x=torch.tensor(x_np).float()\n",
    "\n",
    "# テンソルの形状を(5,1)に変更する\n",
    "x=x.view(-1,1)\n",
    "\n",
    "# テンソルの形状と値を表示する\n",
    "print(x.shape)\n",
    "print(x)"
   ]
  },
  {
   "cell_type": "markdown",
   "id": "5f15c86c-ae14-4fbd-9a87-ea6aca6b0933",
   "metadata": {},
   "source": [
    "<details>\n",
    "<summary>(5,1)に変更した理由</summary>\n",
    "(1,5)だと5次元のデータが1つある。になってしまう。しかし、今欲しいのは1次元(1入力)のデータが5つあるという状態である。よって(5,1)に変更している。\n",
    "</details>"
   ]
  },
  {
   "cell_type": "code",
   "execution_count": 5,
   "id": "9be6fe14-1e7b-4800-9717-c83ae39d234d",
   "metadata": {
    "tags": []
   },
   "outputs": [
    {
     "name": "stdout",
     "output_type": "stream",
     "text": [
      "torch.Size([5, 1])\n",
      "tensor([[-3.],\n",
      "        [-1.],\n",
      "        [ 1.],\n",
      "        [ 3.],\n",
      "        [ 5.]])\n"
     ]
    }
   ],
   "source": [
    "# l1にxを入力して、出力yを計算する\n",
    "y=l1(x)\n",
    "\n",
    "# yの形状と値を表示する\n",
    "print(y.shape)\n",
    "print(y.data)"
   ]
  },
  {
   "cell_type": "markdown",
   "id": "1168d40c-c510-4f10-bed9-d6cccdfff16b",
   "metadata": {},
   "source": [
    "## 2入力1出力線形関数"
   ]
  },
  {
   "cell_type": "code",
   "execution_count": 6,
   "id": "eb9681d9-ed91-4d91-bd15-6f424e8a7557",
   "metadata": {
    "tags": []
   },
   "outputs": [
    {
     "name": "stdout",
     "output_type": "stream",
     "text": [
      "name:  weight\n",
      "tensor:  Parameter containing:\n",
      "tensor([[1., 1.]], requires_grad=True)\n",
      "shape:  torch.Size([1, 2])\n",
      "name:  bias\n",
      "tensor:  Parameter containing:\n",
      "tensor([2.], requires_grad=True)\n",
      "shape:  torch.Size([1])\n"
     ]
    }
   ],
   "source": [
    "# 入力サイズ2、出力サイズ1の線形層を定義する\n",
    "l2=nn.Linear(2,1)\n",
    "\n",
    "# l2の重みとバイアスを定数で初期化する\n",
    "nn.init.constant_(l2.weight,1.0)\n",
    "nn.init.constant_(l2.bias,2.0)\n",
    "\n",
    "# l2のパラメータを1つずつ表示する\n",
    "for param in l2.named_parameters():\n",
    "    print('name: ',param[0]) # パラメータの名前\n",
    "    print('tensor: ',param[1]) # パラメータの値\n",
    "    print('shape: ',param[1].shape) # パラメータの形状"
   ]
  },
  {
   "cell_type": "code",
   "execution_count": 7,
   "id": "65d16a9e-f3ad-48a2-baa8-87151b76ae03",
   "metadata": {
    "tags": []
   },
   "outputs": [
    {
     "name": "stdout",
     "output_type": "stream",
     "text": [
      "torch.Size([4, 2])\n",
      "torch.Size([1, 2])\n",
      "tensor([[0., 0.],\n",
      "        [0., 1.],\n",
      "        [1., 0.],\n",
      "        [1., 1.]])\n"
     ]
    }
   ],
   "source": [
    "# -2から2までの値を1刻みで生成する\n",
    "x2_np = np.array([[0,0],[0,1],[1,0],[1,1]])\n",
    "\n",
    "# numpy配列をPyTorchのテンソルに変換する\n",
    "x2=torch.tensor(x2_np).float()\n",
    "\n",
    "# テンソルの形状を(4,2)に変更する。(今回はいらないが)\n",
    "x=x.view(-1,1)\n",
    "\n",
    "# テンソルの形状と値を表示する\n",
    "print(x2.shape)\n",
    "print(l2.weight.shape)\n",
    "print(x2)"
   ]
  },
  {
   "cell_type": "code",
   "execution_count": 8,
   "id": "656dce24-cee4-49d5-b7e6-4ea1a99c7ce8",
   "metadata": {
    "tags": []
   },
   "outputs": [
    {
     "name": "stdout",
     "output_type": "stream",
     "text": [
      "torch.Size([4, 1])\n",
      "tensor([[2.],\n",
      "        [3.],\n",
      "        [3.],\n",
      "        [4.]])\n"
     ]
    }
   ],
   "source": [
    "# l2にx2を入力して、出力y2を計算する\n",
    "y2=l2(x2)\n",
    "\n",
    "# y2の形状と値を表示する\n",
    "print(y2.shape)\n",
    "print(y2.data)"
   ]
  },
  {
   "cell_type": "markdown",
   "id": "3bfcfc73-bed9-465c-a963-a52e08777ba5",
   "metadata": {},
   "source": [
    "## 2入力3出力"
   ]
  },
  {
   "cell_type": "code",
   "execution_count": 9,
   "id": "e0f90e3d-fb43-4d7c-b811-69ab1ae18999",
   "metadata": {
    "tags": []
   },
   "outputs": [
    {
     "name": "stdout",
     "output_type": "stream",
     "text": [
      "name:  weight\n",
      "tensor:  Parameter containing:\n",
      "tensor([[1., 1.],\n",
      "        [2., 2.],\n",
      "        [3., 3.]], requires_grad=True)\n",
      "shape:  torch.Size([3, 2])\n",
      "name:  bias\n",
      "tensor:  Parameter containing:\n",
      "tensor([2., 2., 2.], requires_grad=True)\n",
      "shape:  torch.Size([3])\n"
     ]
    }
   ],
   "source": [
    "l3=nn.Linear(2,3)\n",
    "# l3の重みとバイアスを定数で初期化する\n",
    "nn.init.constant_(l3.weight[0,:],1.0)\n",
    "nn.init.constant_(l3.weight[1,:],2.0)\n",
    "nn.init.constant_(l3.weight[2,:],3.0)\n",
    "nn.init.constant_(l3.bias,2.0)\n",
    "\n",
    "# l3のパラメータを1つずつ表示する\n",
    "for param in l3.named_parameters():\n",
    "    print('name: ',param[0]) # パラメータの名前\n",
    "    print('tensor: ',param[1]) # パラメータの値\n",
    "    print('shape: ',param[1].shape) # パラメータの形状\n"
   ]
  },
  {
   "cell_type": "code",
   "execution_count": 10,
   "id": "e32448a8-59b6-465a-94c0-70ce58e8fb29",
   "metadata": {
    "tags": []
   },
   "outputs": [
    {
     "name": "stdout",
     "output_type": "stream",
     "text": [
      "torch.Size([4, 3])\n",
      "tensor([[2., 2., 2.],\n",
      "        [3., 4., 5.],\n",
      "        [3., 4., 5.],\n",
      "        [4., 6., 8.]])\n"
     ]
    }
   ],
   "source": [
    "# 2入力なのでデータは前のと同じものを使う。\n",
    "y3=l3(x2)\n",
    "\n",
    "# y3の形状と値を表示する\n",
    "print(y3.shape)\n",
    "print(y3.data)"
   ]
  },
  {
   "cell_type": "markdown",
   "id": "f52d5977-0ae3-4353-b3f6-a60cc43bf704",
   "metadata": {},
   "source": [
    "<details>\n",
    "<summary>上に表示したようにwxではなくxw担っている理由</summary>\n",
    "l2.wightでみると、数学では$wx$のかたちが多いためか転地されているが、機械学習の流儀で、入力データは左からかける。よって以下のような見方になる。\n",
    "$$\n",
    "\\begin{bmatrix}\n",
    "y_1 & y_2 & y_3\n",
    "\\end{bmatrix}\n",
    "=\n",
    "\\begin{bmatrix}\n",
    "x_1 & x_2\n",
    "\\end{bmatrix}\n",
    "\\begin{bmatrix}\n",
    "w_{11} & w_{21} & w_{31}\\\\\n",
    "w_{12} & w_{22}& w_{32}\\\\\n",
    "\\end{bmatrix}\n",
    "+\n",
    "\\begin{bmatrix}\n",
    "b_1 & b_2 & b_3\n",
    "\\end{bmatrix}\n",
    "$$\n",
    "となっておりこれを\n",
    "$$\n",
    "y=xw+b\n",
    "$$\n",
    "と表している。\n",
    "    \n",
    "データ数がたくさんある場合(先程の例はデータ数1)は、例えば今回は4つのデータを用意したので4つにすると\n",
    "$$\n",
    "\\begin{bmatrix}\n",
    "y1_1 & y1_2 & y1_3　\\\\\n",
    "y2_1 & y2_2 & y2_3　\\\\\n",
    "y3_1 & y3_2 & y3_3　\\\\\n",
    "y4_1 & y4_2 & y4_3　\\\\\n",
    "\\end{bmatrix}\n",
    "=\n",
    "\\begin{bmatrix}\n",
    "x1_1 & x1_2 \\\\\n",
    "x2_1 & x2_2 \\\\\n",
    "x3_1 & x3_2 \\\\\n",
    "x4_1 & x4_2 \\\\\n",
    "\\end{bmatrix}\n",
    "\\begin{bmatrix}\n",
    "w_{11} & w_{21} & w_{31}\\\\\n",
    "w_{12} & w_{22}& w_{32}\\\\\n",
    "\\end{bmatrix}\n",
    "+\n",
    "\\begin{bmatrix}\n",
    "b_1 & b_2 & b_3\n",
    "\\end{bmatrix}\n",
    "$$\n",
    "</details>"
   ]
  },
  {
   "cell_type": "markdown",
   "id": "cb868df9-10ac-45dd-a711-1b6f389e867a",
   "metadata": {},
   "source": [
    "## カスタムクラスの定義"
   ]
  },
  {
   "cell_type": "code",
   "execution_count": 11,
   "id": "7587ef65-99a2-4457-99b8-759a279de223",
   "metadata": {
    "tags": []
   },
   "outputs": [],
   "source": [
    "class Net(nn.Module):\n",
    "    def __init__(self,n_input,n_output):\n",
    "        super().__init__()  # 親クラスのコンストラクタを呼び出す\n",
    "        self.l1=nn.Linear(n_input,n_output)  # 入力と出力の次元を指定して、線形変換を行うレイヤーを定義\n",
    "        \n",
    "    def forward(self,x):\n",
    "        x1=self.l1(x)  # 入力xをレイヤーl1で変換する\n",
    "        return x1  # 変換された結果を返す"
   ]
  },
  {
   "cell_type": "code",
   "execution_count": 12,
   "id": "939fd734-52be-4de0-bac2-f9fa30f0982b",
   "metadata": {
    "tags": []
   },
   "outputs": [
    {
     "name": "stdout",
     "output_type": "stream",
     "text": [
      "name:  l1.weight\n",
      "tensor:  Parameter containing:\n",
      "tensor([[-0.2596, -0.1390],\n",
      "        [-0.5394,  0.4630],\n",
      "        [-0.1668,  0.2270]], requires_grad=True)\n",
      "shape:  torch.Size([3, 2])\n",
      "name:  l1.bias\n",
      "tensor:  Parameter containing:\n",
      "tensor([0.5000, 0.1317, 0.1934], requires_grad=True)\n",
      "shape:  torch.Size([3])\n"
     ]
    }
   ],
   "source": [
    "n_input=2\n",
    "n_output=3\n",
    "net = Net(n_input,n_output)\n",
    "for param in net.named_parameters():\n",
    "    print('name: ',param[0]) # パラメータの名前\n",
    "    print('tensor: ',param[1]) # パラメータの値\n",
    "    print('shape: ',param[1].shape) # パラメータの形状\n"
   ]
  },
  {
   "cell_type": "markdown",
   "id": "b1267d00-0d53-4603-98a7-a86129c7d262",
   "metadata": {
    "tags": []
   },
   "source": [
    "## データ準備"
   ]
  },
  {
   "cell_type": "code",
   "execution_count": null,
   "id": "56662db4-553f-46b9-8e75-38c5c4baae14",
   "metadata": {
    "tags": []
   },
   "outputs": [
    {
     "name": "stdout",
     "output_type": "stream",
     "text": [
      "変数名 :  raw_df\n"
     ]
    },
    {
     "data": {
      "text/html": [
       "<div>\n",
       "<style scoped>\n",
       "    .dataframe tbody tr th:only-of-type {\n",
       "        vertical-align: middle;\n",
       "    }\n",
       "\n",
       "    .dataframe tbody tr th {\n",
       "        vertical-align: top;\n",
       "    }\n",
       "\n",
       "    .dataframe thead th {\n",
       "        text-align: right;\n",
       "    }\n",
       "</style>\n",
       "<table border=\"1\" class=\"dataframe\">\n",
       "  <thead>\n",
       "    <tr style=\"text-align: right;\">\n",
       "      <th></th>\n",
       "      <th>0</th>\n",
       "      <th>1</th>\n",
       "      <th>2</th>\n",
       "      <th>3</th>\n",
       "      <th>4</th>\n",
       "      <th>5</th>\n",
       "      <th>6</th>\n",
       "      <th>7</th>\n",
       "      <th>8</th>\n",
       "      <th>9</th>\n",
       "      <th>10</th>\n",
       "    </tr>\n",
       "  </thead>\n",
       "  <tbody>\n",
       "    <tr>\n",
       "      <th>0</th>\n",
       "      <td>0.00632</td>\n",
       "      <td>18.00</td>\n",
       "      <td>2.31</td>\n",
       "      <td>0.0</td>\n",
       "      <td>0.538</td>\n",
       "      <td>6.575</td>\n",
       "      <td>65.2</td>\n",
       "      <td>4.0900</td>\n",
       "      <td>1.0</td>\n",
       "      <td>296.0</td>\n",
       "      <td>15.3</td>\n",
       "    </tr>\n",
       "    <tr>\n",
       "      <th>1</th>\n",
       "      <td>396.90000</td>\n",
       "      <td>4.98</td>\n",
       "      <td>24.00</td>\n",
       "      <td>NaN</td>\n",
       "      <td>NaN</td>\n",
       "      <td>NaN</td>\n",
       "      <td>NaN</td>\n",
       "      <td>NaN</td>\n",
       "      <td>NaN</td>\n",
       "      <td>NaN</td>\n",
       "      <td>NaN</td>\n",
       "    </tr>\n",
       "    <tr>\n",
       "      <th>2</th>\n",
       "      <td>0.02731</td>\n",
       "      <td>0.00</td>\n",
       "      <td>7.07</td>\n",
       "      <td>0.0</td>\n",
       "      <td>0.469</td>\n",
       "      <td>6.421</td>\n",
       "      <td>78.9</td>\n",
       "      <td>4.9671</td>\n",
       "      <td>2.0</td>\n",
       "      <td>242.0</td>\n",
       "      <td>17.8</td>\n",
       "    </tr>\n",
       "    <tr>\n",
       "      <th>3</th>\n",
       "      <td>396.90000</td>\n",
       "      <td>9.14</td>\n",
       "      <td>21.60</td>\n",
       "      <td>NaN</td>\n",
       "      <td>NaN</td>\n",
       "      <td>NaN</td>\n",
       "      <td>NaN</td>\n",
       "      <td>NaN</td>\n",
       "      <td>NaN</td>\n",
       "      <td>NaN</td>\n",
       "      <td>NaN</td>\n",
       "    </tr>\n",
       "    <tr>\n",
       "      <th>4</th>\n",
       "      <td>0.02729</td>\n",
       "      <td>0.00</td>\n",
       "      <td>7.07</td>\n",
       "      <td>0.0</td>\n",
       "      <td>0.469</td>\n",
       "      <td>7.185</td>\n",
       "      <td>61.1</td>\n",
       "      <td>4.9671</td>\n",
       "      <td>2.0</td>\n",
       "      <td>242.0</td>\n",
       "      <td>17.8</td>\n",
       "    </tr>\n",
       "    <tr>\n",
       "      <th>...</th>\n",
       "      <td>...</td>\n",
       "      <td>...</td>\n",
       "      <td>...</td>\n",
       "      <td>...</td>\n",
       "      <td>...</td>\n",
       "      <td>...</td>\n",
       "      <td>...</td>\n",
       "      <td>...</td>\n",
       "      <td>...</td>\n",
       "      <td>...</td>\n",
       "      <td>...</td>\n",
       "    </tr>\n",
       "    <tr>\n",
       "      <th>1007</th>\n",
       "      <td>396.90000</td>\n",
       "      <td>5.64</td>\n",
       "      <td>23.90</td>\n",
       "      <td>NaN</td>\n",
       "      <td>NaN</td>\n",
       "      <td>NaN</td>\n",
       "      <td>NaN</td>\n",
       "      <td>NaN</td>\n",
       "      <td>NaN</td>\n",
       "      <td>NaN</td>\n",
       "      <td>NaN</td>\n",
       "    </tr>\n",
       "    <tr>\n",
       "      <th>1008</th>\n",
       "      <td>0.10959</td>\n",
       "      <td>0.00</td>\n",
       "      <td>11.93</td>\n",
       "      <td>0.0</td>\n",
       "      <td>0.573</td>\n",
       "      <td>6.794</td>\n",
       "      <td>89.3</td>\n",
       "      <td>2.3889</td>\n",
       "      <td>1.0</td>\n",
       "      <td>273.0</td>\n",
       "      <td>21.0</td>\n",
       "    </tr>\n",
       "    <tr>\n",
       "      <th>1009</th>\n",
       "      <td>393.45000</td>\n",
       "      <td>6.48</td>\n",
       "      <td>22.00</td>\n",
       "      <td>NaN</td>\n",
       "      <td>NaN</td>\n",
       "      <td>NaN</td>\n",
       "      <td>NaN</td>\n",
       "      <td>NaN</td>\n",
       "      <td>NaN</td>\n",
       "      <td>NaN</td>\n",
       "      <td>NaN</td>\n",
       "    </tr>\n",
       "    <tr>\n",
       "      <th>1010</th>\n",
       "      <td>0.04741</td>\n",
       "      <td>0.00</td>\n",
       "      <td>11.93</td>\n",
       "      <td>0.0</td>\n",
       "      <td>0.573</td>\n",
       "      <td>6.030</td>\n",
       "      <td>80.8</td>\n",
       "      <td>2.5050</td>\n",
       "      <td>1.0</td>\n",
       "      <td>273.0</td>\n",
       "      <td>21.0</td>\n",
       "    </tr>\n",
       "    <tr>\n",
       "      <th>1011</th>\n",
       "      <td>396.90000</td>\n",
       "      <td>7.88</td>\n",
       "      <td>11.90</td>\n",
       "      <td>NaN</td>\n",
       "      <td>NaN</td>\n",
       "      <td>NaN</td>\n",
       "      <td>NaN</td>\n",
       "      <td>NaN</td>\n",
       "      <td>NaN</td>\n",
       "      <td>NaN</td>\n",
       "      <td>NaN</td>\n",
       "    </tr>\n",
       "  </tbody>\n",
       "</table>\n",
       "<p>1012 rows × 11 columns</p>\n",
       "</div>"
      ],
      "text/plain": [
       "             0      1      2    3      4      5     6       7    8      9   \\\n",
       "0       0.00632  18.00   2.31  0.0  0.538  6.575  65.2  4.0900  1.0  296.0   \n",
       "1     396.90000   4.98  24.00  NaN    NaN    NaN   NaN     NaN  NaN    NaN   \n",
       "2       0.02731   0.00   7.07  0.0  0.469  6.421  78.9  4.9671  2.0  242.0   \n",
       "3     396.90000   9.14  21.60  NaN    NaN    NaN   NaN     NaN  NaN    NaN   \n",
       "4       0.02729   0.00   7.07  0.0  0.469  7.185  61.1  4.9671  2.0  242.0   \n",
       "...         ...    ...    ...  ...    ...    ...   ...     ...  ...    ...   \n",
       "1007  396.90000   5.64  23.90  NaN    NaN    NaN   NaN     NaN  NaN    NaN   \n",
       "1008    0.10959   0.00  11.93  0.0  0.573  6.794  89.3  2.3889  1.0  273.0   \n",
       "1009  393.45000   6.48  22.00  NaN    NaN    NaN   NaN     NaN  NaN    NaN   \n",
       "1010    0.04741   0.00  11.93  0.0  0.573  6.030  80.8  2.5050  1.0  273.0   \n",
       "1011  396.90000   7.88  11.90  NaN    NaN    NaN   NaN     NaN  NaN    NaN   \n",
       "\n",
       "        10  \n",
       "0     15.3  \n",
       "1      NaN  \n",
       "2     17.8  \n",
       "3      NaN  \n",
       "4     17.8  \n",
       "...    ...  \n",
       "1007   NaN  \n",
       "1008  21.0  \n",
       "1009   NaN  \n",
       "1010  21.0  \n",
       "1011   NaN  \n",
       "\n",
       "[1012 rows x 11 columns]"
      ]
     },
     "metadata": {},
     "output_type": "display_data"
    },
    {
     "name": "stdout",
     "output_type": "stream",
     "text": [
      "変数が見つかりませんでした。\n"
     ]
    },
    {
     "data": {
      "text/html": [
       "<div>\n",
       "<style scoped>\n",
       "    .dataframe tbody tr th:only-of-type {\n",
       "        vertical-align: middle;\n",
       "    }\n",
       "\n",
       "    .dataframe tbody tr th {\n",
       "        vertical-align: top;\n",
       "    }\n",
       "\n",
       "    .dataframe thead th {\n",
       "        text-align: right;\n",
       "    }\n",
       "</style>\n",
       "<table border=\"1\" class=\"dataframe\">\n",
       "  <thead>\n",
       "    <tr style=\"text-align: right;\">\n",
       "      <th></th>\n",
       "      <th>0</th>\n",
       "      <th>1</th>\n",
       "      <th>2</th>\n",
       "      <th>3</th>\n",
       "      <th>4</th>\n",
       "      <th>5</th>\n",
       "      <th>6</th>\n",
       "      <th>7</th>\n",
       "      <th>8</th>\n",
       "      <th>9</th>\n",
       "      <th>10</th>\n",
       "    </tr>\n",
       "  </thead>\n",
       "  <tbody>\n",
       "    <tr>\n",
       "      <th>0</th>\n",
       "      <td>0.00632</td>\n",
       "      <td>18.0</td>\n",
       "      <td>2.31</td>\n",
       "      <td>0.0</td>\n",
       "      <td>0.538</td>\n",
       "      <td>6.575</td>\n",
       "      <td>65.2</td>\n",
       "      <td>4.0900</td>\n",
       "      <td>1.0</td>\n",
       "      <td>296.0</td>\n",
       "      <td>15.3</td>\n",
       "    </tr>\n",
       "    <tr>\n",
       "      <th>1</th>\n",
       "      <td>0.02731</td>\n",
       "      <td>0.0</td>\n",
       "      <td>7.07</td>\n",
       "      <td>0.0</td>\n",
       "      <td>0.469</td>\n",
       "      <td>6.421</td>\n",
       "      <td>78.9</td>\n",
       "      <td>4.9671</td>\n",
       "      <td>2.0</td>\n",
       "      <td>242.0</td>\n",
       "      <td>17.8</td>\n",
       "    </tr>\n",
       "    <tr>\n",
       "      <th>2</th>\n",
       "      <td>0.02729</td>\n",
       "      <td>0.0</td>\n",
       "      <td>7.07</td>\n",
       "      <td>0.0</td>\n",
       "      <td>0.469</td>\n",
       "      <td>7.185</td>\n",
       "      <td>61.1</td>\n",
       "      <td>4.9671</td>\n",
       "      <td>2.0</td>\n",
       "      <td>242.0</td>\n",
       "      <td>17.8</td>\n",
       "    </tr>\n",
       "    <tr>\n",
       "      <th>3</th>\n",
       "      <td>0.03237</td>\n",
       "      <td>0.0</td>\n",
       "      <td>2.18</td>\n",
       "      <td>0.0</td>\n",
       "      <td>0.458</td>\n",
       "      <td>6.998</td>\n",
       "      <td>45.8</td>\n",
       "      <td>6.0622</td>\n",
       "      <td>3.0</td>\n",
       "      <td>222.0</td>\n",
       "      <td>18.7</td>\n",
       "    </tr>\n",
       "    <tr>\n",
       "      <th>4</th>\n",
       "      <td>0.06905</td>\n",
       "      <td>0.0</td>\n",
       "      <td>2.18</td>\n",
       "      <td>0.0</td>\n",
       "      <td>0.458</td>\n",
       "      <td>7.147</td>\n",
       "      <td>54.2</td>\n",
       "      <td>6.0622</td>\n",
       "      <td>3.0</td>\n",
       "      <td>222.0</td>\n",
       "      <td>18.7</td>\n",
       "    </tr>\n",
       "    <tr>\n",
       "      <th>...</th>\n",
       "      <td>...</td>\n",
       "      <td>...</td>\n",
       "      <td>...</td>\n",
       "      <td>...</td>\n",
       "      <td>...</td>\n",
       "      <td>...</td>\n",
       "      <td>...</td>\n",
       "      <td>...</td>\n",
       "      <td>...</td>\n",
       "      <td>...</td>\n",
       "      <td>...</td>\n",
       "    </tr>\n",
       "    <tr>\n",
       "      <th>501</th>\n",
       "      <td>0.06263</td>\n",
       "      <td>0.0</td>\n",
       "      <td>11.93</td>\n",
       "      <td>0.0</td>\n",
       "      <td>0.573</td>\n",
       "      <td>6.593</td>\n",
       "      <td>69.1</td>\n",
       "      <td>2.4786</td>\n",
       "      <td>1.0</td>\n",
       "      <td>273.0</td>\n",
       "      <td>21.0</td>\n",
       "    </tr>\n",
       "    <tr>\n",
       "      <th>502</th>\n",
       "      <td>0.04527</td>\n",
       "      <td>0.0</td>\n",
       "      <td>11.93</td>\n",
       "      <td>0.0</td>\n",
       "      <td>0.573</td>\n",
       "      <td>6.120</td>\n",
       "      <td>76.7</td>\n",
       "      <td>2.2875</td>\n",
       "      <td>1.0</td>\n",
       "      <td>273.0</td>\n",
       "      <td>21.0</td>\n",
       "    </tr>\n",
       "    <tr>\n",
       "      <th>503</th>\n",
       "      <td>0.06076</td>\n",
       "      <td>0.0</td>\n",
       "      <td>11.93</td>\n",
       "      <td>0.0</td>\n",
       "      <td>0.573</td>\n",
       "      <td>6.976</td>\n",
       "      <td>91.0</td>\n",
       "      <td>2.1675</td>\n",
       "      <td>1.0</td>\n",
       "      <td>273.0</td>\n",
       "      <td>21.0</td>\n",
       "    </tr>\n",
       "    <tr>\n",
       "      <th>504</th>\n",
       "      <td>0.10959</td>\n",
       "      <td>0.0</td>\n",
       "      <td>11.93</td>\n",
       "      <td>0.0</td>\n",
       "      <td>0.573</td>\n",
       "      <td>6.794</td>\n",
       "      <td>89.3</td>\n",
       "      <td>2.3889</td>\n",
       "      <td>1.0</td>\n",
       "      <td>273.0</td>\n",
       "      <td>21.0</td>\n",
       "    </tr>\n",
       "    <tr>\n",
       "      <th>505</th>\n",
       "      <td>0.04741</td>\n",
       "      <td>0.0</td>\n",
       "      <td>11.93</td>\n",
       "      <td>0.0</td>\n",
       "      <td>0.573</td>\n",
       "      <td>6.030</td>\n",
       "      <td>80.8</td>\n",
       "      <td>2.5050</td>\n",
       "      <td>1.0</td>\n",
       "      <td>273.0</td>\n",
       "      <td>21.0</td>\n",
       "    </tr>\n",
       "  </tbody>\n",
       "</table>\n",
       "<p>506 rows × 11 columns</p>\n",
       "</div>"
      ],
      "text/plain": [
       "          0     1      2    3      4      5     6       7    8      9     10\n",
       "0    0.00632  18.0   2.31  0.0  0.538  6.575  65.2  4.0900  1.0  296.0  15.3\n",
       "1    0.02731   0.0   7.07  0.0  0.469  6.421  78.9  4.9671  2.0  242.0  17.8\n",
       "2    0.02729   0.0   7.07  0.0  0.469  7.185  61.1  4.9671  2.0  242.0  17.8\n",
       "3    0.03237   0.0   2.18  0.0  0.458  6.998  45.8  6.0622  3.0  222.0  18.7\n",
       "4    0.06905   0.0   2.18  0.0  0.458  7.147  54.2  6.0622  3.0  222.0  18.7\n",
       "..       ...   ...    ...  ...    ...    ...   ...     ...  ...    ...   ...\n",
       "501  0.06263   0.0  11.93  0.0  0.573  6.593  69.1  2.4786  1.0  273.0  21.0\n",
       "502  0.04527   0.0  11.93  0.0  0.573  6.120  76.7  2.2875  1.0  273.0  21.0\n",
       "503  0.06076   0.0  11.93  0.0  0.573  6.976  91.0  2.1675  1.0  273.0  21.0\n",
       "504  0.10959   0.0  11.93  0.0  0.573  6.794  89.3  2.3889  1.0  273.0  21.0\n",
       "505  0.04741   0.0  11.93  0.0  0.573  6.030  80.8  2.5050  1.0  273.0  21.0\n",
       "\n",
       "[506 rows x 11 columns]"
      ]
     },
     "metadata": {},
     "output_type": "display_data"
    },
    {
     "name": "stdout",
     "output_type": "stream",
     "text": [
      "変数が見つかりませんでした。\n"
     ]
    },
    {
     "data": {
      "text/html": [
       "<div>\n",
       "<style scoped>\n",
       "    .dataframe tbody tr th:only-of-type {\n",
       "        vertical-align: middle;\n",
       "    }\n",
       "\n",
       "    .dataframe tbody tr th {\n",
       "        vertical-align: top;\n",
       "    }\n",
       "\n",
       "    .dataframe thead th {\n",
       "        text-align: right;\n",
       "    }\n",
       "</style>\n",
       "<table border=\"1\" class=\"dataframe\">\n",
       "  <thead>\n",
       "    <tr style=\"text-align: right;\">\n",
       "      <th></th>\n",
       "      <th>0</th>\n",
       "      <th>1</th>\n",
       "      <th>2</th>\n",
       "    </tr>\n",
       "  </thead>\n",
       "  <tbody>\n",
       "    <tr>\n",
       "      <th>0</th>\n",
       "      <td>396.90</td>\n",
       "      <td>4.98</td>\n",
       "      <td>24.0</td>\n",
       "    </tr>\n",
       "    <tr>\n",
       "      <th>1</th>\n",
       "      <td>396.90</td>\n",
       "      <td>9.14</td>\n",
       "      <td>21.6</td>\n",
       "    </tr>\n",
       "    <tr>\n",
       "      <th>2</th>\n",
       "      <td>392.83</td>\n",
       "      <td>4.03</td>\n",
       "      <td>34.7</td>\n",
       "    </tr>\n",
       "    <tr>\n",
       "      <th>3</th>\n",
       "      <td>394.63</td>\n",
       "      <td>2.94</td>\n",
       "      <td>33.4</td>\n",
       "    </tr>\n",
       "    <tr>\n",
       "      <th>4</th>\n",
       "      <td>396.90</td>\n",
       "      <td>5.33</td>\n",
       "      <td>36.2</td>\n",
       "    </tr>\n",
       "    <tr>\n",
       "      <th>...</th>\n",
       "      <td>...</td>\n",
       "      <td>...</td>\n",
       "      <td>...</td>\n",
       "    </tr>\n",
       "    <tr>\n",
       "      <th>501</th>\n",
       "      <td>391.99</td>\n",
       "      <td>9.67</td>\n",
       "      <td>22.4</td>\n",
       "    </tr>\n",
       "    <tr>\n",
       "      <th>502</th>\n",
       "      <td>396.90</td>\n",
       "      <td>9.08</td>\n",
       "      <td>20.6</td>\n",
       "    </tr>\n",
       "    <tr>\n",
       "      <th>503</th>\n",
       "      <td>396.90</td>\n",
       "      <td>5.64</td>\n",
       "      <td>23.9</td>\n",
       "    </tr>\n",
       "    <tr>\n",
       "      <th>504</th>\n",
       "      <td>393.45</td>\n",
       "      <td>6.48</td>\n",
       "      <td>22.0</td>\n",
       "    </tr>\n",
       "    <tr>\n",
       "      <th>505</th>\n",
       "      <td>396.90</td>\n",
       "      <td>7.88</td>\n",
       "      <td>11.9</td>\n",
       "    </tr>\n",
       "  </tbody>\n",
       "</table>\n",
       "<p>506 rows × 3 columns</p>\n",
       "</div>"
      ],
      "text/plain": [
       "          0     1     2\n",
       "0    396.90  4.98  24.0\n",
       "1    396.90  9.14  21.6\n",
       "2    392.83  4.03  34.7\n",
       "3    394.63  2.94  33.4\n",
       "4    396.90  5.33  36.2\n",
       "..      ...   ...   ...\n",
       "501  391.99  9.67  22.4\n",
       "502  396.90  9.08  20.6\n",
       "503  396.90  5.64  23.9\n",
       "504  393.45  6.48  22.0\n",
       "505  396.90  7.88  11.9\n",
       "\n",
       "[506 rows x 3 columns]"
      ]
     },
     "metadata": {},
     "output_type": "display_data"
    },
    {
     "name": "stdout",
     "output_type": "stream",
     "text": [
      "変数名 :  x_org\n"
     ]
    },
    {
     "data": {
      "text/html": [
       "<div>\n",
       "<style scoped>\n",
       "    .dataframe tbody tr th:only-of-type {\n",
       "        vertical-align: middle;\n",
       "    }\n",
       "\n",
       "    .dataframe tbody tr th {\n",
       "        vertical-align: top;\n",
       "    }\n",
       "\n",
       "    .dataframe thead th {\n",
       "        text-align: right;\n",
       "    }\n",
       "</style>\n",
       "<table border=\"1\" class=\"dataframe\">\n",
       "  <thead>\n",
       "    <tr style=\"text-align: right;\">\n",
       "      <th></th>\n",
       "      <th>0</th>\n",
       "      <th>1</th>\n",
       "      <th>2</th>\n",
       "      <th>3</th>\n",
       "      <th>4</th>\n",
       "      <th>5</th>\n",
       "      <th>6</th>\n",
       "      <th>7</th>\n",
       "      <th>8</th>\n",
       "      <th>9</th>\n",
       "      <th>10</th>\n",
       "      <th>11</th>\n",
       "      <th>12</th>\n",
       "      <th>13</th>\n",
       "    </tr>\n",
       "  </thead>\n",
       "  <tbody>\n",
       "    <tr>\n",
       "      <th>0</th>\n",
       "      <td>0.00632</td>\n",
       "      <td>18.0</td>\n",
       "      <td>2.31</td>\n",
       "      <td>0.0</td>\n",
       "      <td>0.538</td>\n",
       "      <td>6.575</td>\n",
       "      <td>65.2</td>\n",
       "      <td>4.0900</td>\n",
       "      <td>1.0</td>\n",
       "      <td>296.0</td>\n",
       "      <td>15.3</td>\n",
       "      <td>396.90</td>\n",
       "      <td>4.98</td>\n",
       "      <td>24.0</td>\n",
       "    </tr>\n",
       "    <tr>\n",
       "      <th>1</th>\n",
       "      <td>0.02731</td>\n",
       "      <td>0.0</td>\n",
       "      <td>7.07</td>\n",
       "      <td>0.0</td>\n",
       "      <td>0.469</td>\n",
       "      <td>6.421</td>\n",
       "      <td>78.9</td>\n",
       "      <td>4.9671</td>\n",
       "      <td>2.0</td>\n",
       "      <td>242.0</td>\n",
       "      <td>17.8</td>\n",
       "      <td>396.90</td>\n",
       "      <td>9.14</td>\n",
       "      <td>21.6</td>\n",
       "    </tr>\n",
       "    <tr>\n",
       "      <th>2</th>\n",
       "      <td>0.02729</td>\n",
       "      <td>0.0</td>\n",
       "      <td>7.07</td>\n",
       "      <td>0.0</td>\n",
       "      <td>0.469</td>\n",
       "      <td>7.185</td>\n",
       "      <td>61.1</td>\n",
       "      <td>4.9671</td>\n",
       "      <td>2.0</td>\n",
       "      <td>242.0</td>\n",
       "      <td>17.8</td>\n",
       "      <td>392.83</td>\n",
       "      <td>4.03</td>\n",
       "      <td>34.7</td>\n",
       "    </tr>\n",
       "    <tr>\n",
       "      <th>3</th>\n",
       "      <td>0.03237</td>\n",
       "      <td>0.0</td>\n",
       "      <td>2.18</td>\n",
       "      <td>0.0</td>\n",
       "      <td>0.458</td>\n",
       "      <td>6.998</td>\n",
       "      <td>45.8</td>\n",
       "      <td>6.0622</td>\n",
       "      <td>3.0</td>\n",
       "      <td>222.0</td>\n",
       "      <td>18.7</td>\n",
       "      <td>394.63</td>\n",
       "      <td>2.94</td>\n",
       "      <td>33.4</td>\n",
       "    </tr>\n",
       "    <tr>\n",
       "      <th>4</th>\n",
       "      <td>0.06905</td>\n",
       "      <td>0.0</td>\n",
       "      <td>2.18</td>\n",
       "      <td>0.0</td>\n",
       "      <td>0.458</td>\n",
       "      <td>7.147</td>\n",
       "      <td>54.2</td>\n",
       "      <td>6.0622</td>\n",
       "      <td>3.0</td>\n",
       "      <td>222.0</td>\n",
       "      <td>18.7</td>\n",
       "      <td>396.90</td>\n",
       "      <td>5.33</td>\n",
       "      <td>36.2</td>\n",
       "    </tr>\n",
       "    <tr>\n",
       "      <th>...</th>\n",
       "      <td>...</td>\n",
       "      <td>...</td>\n",
       "      <td>...</td>\n",
       "      <td>...</td>\n",
       "      <td>...</td>\n",
       "      <td>...</td>\n",
       "      <td>...</td>\n",
       "      <td>...</td>\n",
       "      <td>...</td>\n",
       "      <td>...</td>\n",
       "      <td>...</td>\n",
       "      <td>...</td>\n",
       "      <td>...</td>\n",
       "      <td>...</td>\n",
       "    </tr>\n",
       "    <tr>\n",
       "      <th>501</th>\n",
       "      <td>0.06263</td>\n",
       "      <td>0.0</td>\n",
       "      <td>11.93</td>\n",
       "      <td>0.0</td>\n",
       "      <td>0.573</td>\n",
       "      <td>6.593</td>\n",
       "      <td>69.1</td>\n",
       "      <td>2.4786</td>\n",
       "      <td>1.0</td>\n",
       "      <td>273.0</td>\n",
       "      <td>21.0</td>\n",
       "      <td>391.99</td>\n",
       "      <td>9.67</td>\n",
       "      <td>22.4</td>\n",
       "    </tr>\n",
       "    <tr>\n",
       "      <th>502</th>\n",
       "      <td>0.04527</td>\n",
       "      <td>0.0</td>\n",
       "      <td>11.93</td>\n",
       "      <td>0.0</td>\n",
       "      <td>0.573</td>\n",
       "      <td>6.120</td>\n",
       "      <td>76.7</td>\n",
       "      <td>2.2875</td>\n",
       "      <td>1.0</td>\n",
       "      <td>273.0</td>\n",
       "      <td>21.0</td>\n",
       "      <td>396.90</td>\n",
       "      <td>9.08</td>\n",
       "      <td>20.6</td>\n",
       "    </tr>\n",
       "    <tr>\n",
       "      <th>503</th>\n",
       "      <td>0.06076</td>\n",
       "      <td>0.0</td>\n",
       "      <td>11.93</td>\n",
       "      <td>0.0</td>\n",
       "      <td>0.573</td>\n",
       "      <td>6.976</td>\n",
       "      <td>91.0</td>\n",
       "      <td>2.1675</td>\n",
       "      <td>1.0</td>\n",
       "      <td>273.0</td>\n",
       "      <td>21.0</td>\n",
       "      <td>396.90</td>\n",
       "      <td>5.64</td>\n",
       "      <td>23.9</td>\n",
       "    </tr>\n",
       "    <tr>\n",
       "      <th>504</th>\n",
       "      <td>0.10959</td>\n",
       "      <td>0.0</td>\n",
       "      <td>11.93</td>\n",
       "      <td>0.0</td>\n",
       "      <td>0.573</td>\n",
       "      <td>6.794</td>\n",
       "      <td>89.3</td>\n",
       "      <td>2.3889</td>\n",
       "      <td>1.0</td>\n",
       "      <td>273.0</td>\n",
       "      <td>21.0</td>\n",
       "      <td>393.45</td>\n",
       "      <td>6.48</td>\n",
       "      <td>22.0</td>\n",
       "    </tr>\n",
       "    <tr>\n",
       "      <th>505</th>\n",
       "      <td>0.04741</td>\n",
       "      <td>0.0</td>\n",
       "      <td>11.93</td>\n",
       "      <td>0.0</td>\n",
       "      <td>0.573</td>\n",
       "      <td>6.030</td>\n",
       "      <td>80.8</td>\n",
       "      <td>2.5050</td>\n",
       "      <td>1.0</td>\n",
       "      <td>273.0</td>\n",
       "      <td>21.0</td>\n",
       "      <td>396.90</td>\n",
       "      <td>7.88</td>\n",
       "      <td>11.9</td>\n",
       "    </tr>\n",
       "  </tbody>\n",
       "</table>\n",
       "<p>506 rows × 14 columns</p>\n",
       "</div>"
      ],
      "text/plain": [
       "          0     1      2    3      4      5     6       7    8      9     10  \\\n",
       "0    0.00632  18.0   2.31  0.0  0.538  6.575  65.2  4.0900  1.0  296.0  15.3   \n",
       "1    0.02731   0.0   7.07  0.0  0.469  6.421  78.9  4.9671  2.0  242.0  17.8   \n",
       "2    0.02729   0.0   7.07  0.0  0.469  7.185  61.1  4.9671  2.0  242.0  17.8   \n",
       "3    0.03237   0.0   2.18  0.0  0.458  6.998  45.8  6.0622  3.0  222.0  18.7   \n",
       "4    0.06905   0.0   2.18  0.0  0.458  7.147  54.2  6.0622  3.0  222.0  18.7   \n",
       "..       ...   ...    ...  ...    ...    ...   ...     ...  ...    ...   ...   \n",
       "501  0.06263   0.0  11.93  0.0  0.573  6.593  69.1  2.4786  1.0  273.0  21.0   \n",
       "502  0.04527   0.0  11.93  0.0  0.573  6.120  76.7  2.2875  1.0  273.0  21.0   \n",
       "503  0.06076   0.0  11.93  0.0  0.573  6.976  91.0  2.1675  1.0  273.0  21.0   \n",
       "504  0.10959   0.0  11.93  0.0  0.573  6.794  89.3  2.3889  1.0  273.0  21.0   \n",
       "505  0.04741   0.0  11.93  0.0  0.573  6.030  80.8  2.5050  1.0  273.0  21.0   \n",
       "\n",
       "         11    12    13  \n",
       "0    396.90  4.98  24.0  \n",
       "1    396.90  9.14  21.6  \n",
       "2    392.83  4.03  34.7  \n",
       "3    394.63  2.94  33.4  \n",
       "4    396.90  5.33  36.2  \n",
       "..      ...   ...   ...  \n",
       "501  391.99  9.67  22.4  \n",
       "502  396.90  9.08  20.6  \n",
       "503  396.90  5.64  23.9  \n",
       "504  393.45  6.48  22.0  \n",
       "505  396.90  7.88  11.9  \n",
       "\n",
       "[506 rows x 14 columns]"
      ]
     },
     "metadata": {},
     "output_type": "display_data"
    }
   ],
   "source": [
    "# データのURLを指定して、csvファイルを読み込む\n",
    "data_url=\"http://lib.stat.cmu.edu/datasets/boston\"\n",
    "raw_df=pd.read_csv(data_url,sep=\"\\s+\",skiprows=22,header=None) #空白(\\s)を区切り文字、最初の22行をスキップ、ヘッダーはない(23行目からデータ)\n",
    "\n",
    "# データを前処理する\n",
    "#raw_df.valuesでデータフレームをナムパイに変換。その後[::2,:]よりステップ幅2、つまり偶数列を抽出\n",
    "#[1::2,:2]の方は、奇数列の抽出\n",
    "# x_orgは偶数列と奇数列の結合 → 元データのcsvの不備で何故か14項目のうち11項目で1行、3項目で1行となってしまっているので直している。\n",
    "x_org=np.hstack([raw_df.values[::2,:],raw_df.values[1::2,:3]]) \n",
    "\n",
    "# 出力して何をしてるか確認\n",
    "display_custom(raw_df,raw_df.values[::2,:],raw_df.values[1::2,:3],x_org)\n"
   ]
  },
  {
   "cell_type": "code",
   "execution_count": 24,
   "id": "a90be937-575c-484d-8a10-163f2a581d29",
   "metadata": {
    "tags": []
   },
   "outputs": [],
   "source": [
    "feature__names = ['CRIM', 'ZN', 'INDUS', 'CHAS', 'NOX', 'RM', 'AGE', 'DIS', 'RAD', 'TAX', 'PTRATIO', 'B', 'LSTAT','MEDV']"
   ]
  },
  {
   "cell_type": "code",
   "execution_count": 29,
   "id": "836971bb-d61d-47a1-8c5d-a5a7ff73a9c1",
   "metadata": {
    "tags": []
   },
   "outputs": [
    {
     "name": "stdout",
     "output_type": "stream",
     "text": [
      "[[6.575]\n",
      " [6.421]\n",
      " [7.185]\n",
      " [6.998]\n",
      " [7.147]]\n",
      "正解データ\n",
      "[[24. ]\n",
      " [21.6]\n",
      " [34.7]\n",
      " [33.4]\n",
      " [36.2]]\n"
     ]
    }
   ],
   "source": [
    "# Numpy配列をDataFrameに変換し、列名を設定する\n",
    "x_org = pd.DataFrame(x_org)\n",
    "feature__names = ['CRIM', 'ZN', 'INDUS', 'CHAS', 'NOX', 'RM', 'AGE', 'DIS', 'RAD', 'TAX', 'PTRATIO', 'B', 'LSTAT']\n",
    "x_org.columns = feature__names\n",
    "\n",
    "# 'RM'列だけを抽出し、Numpy配列に変換する\n",
    "x = x_org[[\"RM\"]].values\n",
    "\n",
    "# 抽出した列の先頭5行を表示する\n",
    "print(\"抽出した'RM'列の先頭5行\")\n",
    "print(x[:5,:])\n",
    "\n",
    "# 正解データを抽出し、先頭5行を表示する\n",
    "yt = x_org[[\"MEDV\"]].values\n",
    "print(\"抽出した正解データの先頭5行\")\n",
    "print(yt[:5])\n",
    "\n",
    "# DataFrameをNumpy配列に変換する\n",
    "x_org = x_org.values"
   ]
  },
  {
   "cell_type": "code",
   "execution_count": 33,
   "id": "8840597d-80d2-4347-a3b8-46019efcec67",
   "metadata": {
    "tags": []
   },
   "outputs": [
    {
     "data": {
      "image/png": "[encoded data removed]",
      "text/plain": [
       "<Figure size 640x480 with 1 Axes>"
      ]
     },
     "metadata": {},
     "output_type": "display_data"
    }
   ],
   "source": [
    "plt.scatter(x, yt, s=10,c='b')\n",
    "plt.grid(True)\n",
    "# ラベルを設定する\n",
    "plt.xlabel(\"部屋数\")\n",
    "plt.ylabel(\"価格\")\n",
    "plt.title(\"部屋数と価格の散布図\")\n",
    "# グラフを表示する\n",
    "plt.show()"
   ]
  },
  {
   "cell_type": "markdown",
   "id": "db7ddc78-2b17-4ada-8b43-7dd2f76e67e3",
   "metadata": {},
   "source": [
    "## モデル定義"
   ]
  },
  {
   "cell_type": "code",
   "execution_count": 37,
   "id": "801c1899-277f-49a7-a854-024fe9cbbe87",
   "metadata": {
    "tags": []
   },
   "outputs": [],
   "source": [
    "inputs = x\n",
    "n_input = x.shape[1]\n",
    "n_output=1\n"
   ]
  },
  {
   "cell_type": "code",
   "execution_count": 52,
   "id": "1344ac06-790e-4237-9290-db3b2a14a173",
   "metadata": {
    "tags": []
   },
   "outputs": [],
   "source": [
    "class Net(nn.Module):\n",
    "    def __init__(self,n_input,n_output):\n",
    "        super().__init__()  # 親クラスのコンストラクタを呼び出す\n",
    "        self.l1=nn.Linear(n_input,n_output)  # 入力と出力の次元を指定して、線形変換を行うレイヤーを定義\n",
    "        nn.init.constant_(self.l1.weight,1.0)\n",
    "        nn.init.constant_(self.l1.bias,1.0)\n",
    "    def forward(self,x):\n",
    "        x1=self.l1(x)  # 入力xをレイヤーl1で変換する\n",
    "        return x1  # 変換された結果を返す"
   ]
  },
  {
   "cell_type": "code",
   "execution_count": 62,
   "id": "7e4d0b37-fed4-46ca-8cda-5c72f107efea",
   "metadata": {
    "tags": []
   },
   "outputs": [
    {
     "name": "stdout",
     "output_type": "stream",
     "text": [
      "name:  l1.weight\n",
      "tensor:  Parameter containing:\n",
      "tensor([[1.]], requires_grad=True)\n",
      "shape:  torch.Size([1, 1])\n",
      "name:  l1.bias\n",
      "tensor:  Parameter containing:\n",
      "tensor([1.], requires_grad=True)\n",
      "shape:  torch.Size([1])\n"
     ]
    }
   ],
   "source": [
    "net = Net(n_input,n_output)\n",
    "for param in net.named_parameters():\n",
    "    print('name: ',param[0]) # パラメータの名前\n",
    "    print('tensor: ',param[1]) # パラメータの値\n",
    "    print('shape: ',param[1].shape) # パラメータの形状"
   ]
  },
  {
   "cell_type": "code",
   "execution_count": 63,
   "id": "820db206-94cf-44d3-9e49-ffcaf3fdff8b",
   "metadata": {
    "tags": []
   },
   "outputs": [
    {
     "data": {
      "text/plain": [
       "==========================================================================================\n",
       "Layer (type:depth-idx)                   Output Shape              Param #\n",
       "==========================================================================================\n",
       "Net                                      [1]                       --\n",
       "├─Linear: 1-1                            [1]                       2\n",
       "==========================================================================================\n",
       "Total params: 2\n",
       "Trainable params: 2\n",
       "Non-trainable params: 0\n",
       "Total mult-adds (M): 0.00\n",
       "==========================================================================================\n",
       "Input size (MB): 0.00\n",
       "Forward/backward pass size (MB): 0.00\n",
       "Params size (MB): 0.00\n",
       "Estimated Total Size (MB): 0.00\n",
       "=========================================================================================="
      ]
     },
     "execution_count": 63,
     "metadata": {},
     "output_type": "execute_result"
    }
   ],
   "source": [
    "summary(net,(1,))"
   ]
  },
  {
   "cell_type": "code",
   "execution_count": 69,
   "id": "50ebefcc-35e0-4095-8c6b-259b4e60ba0e",
   "metadata": {
    "tags": []
   },
   "outputs": [
    {
     "name": "stdout",
     "output_type": "stream",
     "text": [
      "torch.Size([506, 1])\n",
      "torch.Size([506, 1])\n"
     ]
    }
   ],
   "source": [
    "# 入力データをテンソルに変換する\n",
    "inputs = torch.tensor(x).float()\n",
    "\n",
    "# ラベルをテンソルに変換する\n",
    "labels = torch.tensor(yt).float()\n",
    "\n",
    "# 入力データの形状を出力する\n",
    "print(inputs.shape)\n",
    "\n",
    "# ラベルの形状を出力する\n",
    "print(labels.shape)"
   ]
  },
  {
   "cell_type": "code",
   "execution_count": 73,
   "id": "67a7dc50-14e8-4aa9-a732-82e0862c3a1b",
   "metadata": {
    "tags": []
   },
   "outputs": [],
   "source": [
    "# 学習率を設定する\n",
    "lr = 0.01\n",
    "\n",
    "# 入力サイズと出力サイズを指定して、ネットワークのインスタンスを作成する\n",
    "net = Net(n_input, n_output)\n",
    "\n",
    "# 損失関数を平均二乗誤差として定義する\n",
    "criterion = nn.MSELoss()\n",
    "\n",
    "# 確率的勾配降下法 (SGD) をオプティマイザとして定義する\n",
    "optimizer = optim.SGD(net.parameters(), lr=lr)\n",
    "\n",
    "# 学習のエポック数を指定する\n",
    "num_epochs = 50000\n",
    "\n",
    "# 学習の履歴を格納するための配列を初期化する\n",
    "history = np.zeros((0, 2))"
   ]
  },
  {
   "cell_type": "code",
   "execution_count": 76,
   "id": "393d9a7b-3a2b-484f-bd3e-13e6ff9425b0",
   "metadata": {
    "tags": []
   },
   "outputs": [],
   "source": [
    "# エポック数だけ学習を繰り返す\n",
    "for epoch in range(num_epochs):\n",
    "    \n",
    "    # 勾配をゼロにリセットする\n",
    "    optimizer.zero_grad()\n",
    "    \n",
    "    # 入力データをネットワークに入力して、出力を取得する\n",
    "    outputs = net(inputs)\n",
    "    \n",
    "    # 出力とラベルを比較して、損失を計算する\n",
    "    loss = criterion(outputs, labels) / 2.0\n",
    "    \n",
    "    # 誤差逆伝播を行い、パラメータを更新する\n",
    "    loss.backward()\n",
    "    optimizer.step()\n",
    "    \n",
    "    # 100エポックごとに、損失を表示する\n",
    "    if epoch % 100 == 0:\n",
    "        history = np.vstack((history, np.array([epoch, loss.item()])))"
   ]
  },
  {
   "cell_type": "code",
   "execution_count": 77,
   "id": "2d558b0b-1e2b-43dd-b8eb-563cfd51b9ab",
   "metadata": {
    "tags": []
   },
   "outputs": [
    {
     "name": "stdout",
     "output_type": "stream",
     "text": [
      "損失初期値: 73.14881\n",
      "損失最終値: 21.80033\n"
     ]
    }
   ],
   "source": [
    "print(f'損失初期値: {history[0,1]:.5f}')\n",
    "print(f'損失最終値: {history[-1,1]:.5f}')"
   ]
  },
  {
   "cell_type": "code",
   "execution_count": 79,
   "id": "96057088-27d3-4940-a1e4-69b44f04e71a",
   "metadata": {
    "tags": []
   },
   "outputs": [
    {
     "data": {
      "image/png": "[encoded data removed]",
      "text/plain": [
       "<Figure size 640x480 with 1 Axes>"
      ]
     },
     "metadata": {},
     "output_type": "display_data"
    }
   ],
   "source": [
    "plt.scatter(x,yt,s=10,c='b')\n",
    "plt.xlabel('部屋数')\n",
    "plt.ylabel('価格')\n",
    "plt.plot(inputs.data,outputs.data,c='k')\n",
    "plt.title(\"散布図と回帰直線\")\n",
    "plt.show()"
   ]
  },
  {
   "cell_type": "code",
   "execution_count": null,
   "id": "6500700a-0dab-44c0-a590-92c67534aabd",
   "metadata": {},
   "outputs": [],
   "source": []
  }
 ],
 "metadata": {
  "kernelspec": {
   "display_name": "Python 3 (ipykernel)",
   "language": "python",
   "name": "python3"
  },
  "language_info": {
   "codemirror_mode": {
    "name": "ipython",
    "version": 3
   },
   "file_extension": ".py",
   "mimetype": "text/x-python",
   "name": "python",
   "nbconvert_exporter": "python",
   "pygments_lexer": "ipython3",
   "version": "3.9.13"
  }
 },
 "nbformat": 4,
 "nbformat_minor": 5
}
