{
 "cells": [
  {
   "attachments": {},
   "cell_type": "markdown",
   "metadata": {},
   "source": [
    "# 二値分類"
   ]
  },
  {
   "cell_type": "code",
   "execution_count": 1,
   "metadata": {
    "vscode": {
     "languageId": "python"
    }
   },
   "outputs": [],
   "source": [
    "import numpy as np\n",
    "import matplotlib.pyplot as plt\n",
    "import torch\n",
    "from torch import nn\n",
    "from torchviz import make_dot\n",
    "import japanize_matplotlib\n",
    "import torch.optim as optim\n",
    "import pandas as pd\n",
    "import sklearn\n",
    "from torchinfo import summary\n",
    "from sklearn.model_selection import train_test_split\n",
    "from sklearn.metrics import accuracy_score\n",
    "\n",
    "# 以下可視性のために定義。\n",
    "import inspect\n",
    "from IPython.display import display\n",
    "\n",
    "# 引数の変数名を出力する変数。ただし仕様上、関数を呼び出した場所と同スコープの変数なら1。その一個上なら2，さらにひとつ上なら3にしなければならない。\n",
    "def print_var_name(var,n=1):\n",
    "    \"\"\"\n",
    "    受け取った変数の変数名を出力する関数\n",
    "    \"\"\"\n",
    "    # 現在のフレームを取得する\n",
    "    current_frame = inspect.currentframe()\n",
    "    # 現在のフレームのn回外側のフレームを取得する\n",
    "    outer_frame = current_frame\n",
    "    for _ in range(n):\n",
    "        outer_frame =outer_frame.f_back\n",
    "    # 外側のフレームのローカル変数を取得する。2次元タプル?がずらっと配列で並んでいる。\n",
    "    locals_dict = outer_frame.f_locals\n",
    "    # 変数名を取得する\n",
    "    var_name = [k for k, v in locals_dict.items() if v is var]\n",
    "    if not var_name:\n",
    "        print(\"変数が見つかりませんでした。\")\n",
    "    else:\n",
    "        # 変数名を出力する\n",
    "        print(\"変数名 : \",var_name[0],\" 変数型は \",type(var))\n",
    "\n",
    "def dataframe_converter(func):\n",
    "    def wrapper(*args, **kwargs):\n",
    "        for arg in args:\n",
    "            try:\n",
    "                # 引数がNumPy配列の場合はPandasデータフレームに変換する\n",
    "                print_var_name(arg,2)\n",
    "                if isinstance(arg, np.ndarray):\n",
    "                    df = pd.DataFrame(arg)\n",
    "                    # デコレータで修飾された関数にデータフレームを渡す\n",
    "                    func(df)\n",
    "                elif isinstance(arg, torch.Tensor):\n",
    "                    df = pd.DataFrame(arg.detach().numpy())\n",
    "                    # デコレータで修飾された関数にデータフレームを渡す\n",
    "                    func(df)\n",
    "                elif isinstance(arg, sklearn.utils.Bunch):\n",
    "                    df = pd.DataFrame(arg.data, columns=arg.feature_names)\n",
    "                    # デコレータで修飾された関数にデータフレームを渡す\n",
    "                    func(df)\n",
    "                else:\n",
    "                    # デコレータで修飾された関数にそのままのオブジェクトを渡す\n",
    "                    func(arg)\n",
    "            except:\n",
    "                # デコレータで修飾された関数にそのままのオブジェクトを渡す\n",
    "                func(arg)\n",
    "    return wrapper\n",
    "\n",
    "@dataframe_converter\n",
    "def display_custom(obj,head=True):\n",
    "    # 引数のオブジェクトを表示する\n",
    "    if head and isinstance(obj, pd.DataFrame):\n",
    "        display(obj.head())\n",
    "        print(\"形状は\",obj.shape)\n",
    "    else:\n",
    "        display(obj)"
   ]
  },
  {
   "cell_type": "code",
   "execution_count": 2,
   "metadata": {
    "vscode": {
     "languageId": "python"
    }
   },
   "outputs": [],
   "source": [
    "#変数名はできる限り短いプレフィックスを使用する。\n",
    "#np_をnumpy配列、df_をデータフレーム、t_をテンソル、b_をsklearn.utils.Bunchとする。"
   ]
  },
  {
   "cell_type": "code",
   "execution_count": 3,
   "metadata": {
    "vscode": {
     "languageId": "python"
    }
   },
   "outputs": [
    {
     "name": "stdout",
     "output_type": "stream",
     "text": [
      "変数名 :  df_iris  変数型は  <class 'pandas.core.frame.DataFrame'>\n"
     ]
    },
    {
     "data": {
      "text/html": [
       "<div>\n",
       "<style scoped>\n",
       "    .dataframe tbody tr th:only-of-type {\n",
       "        vertical-align: middle;\n",
       "    }\n",
       "\n",
       "    .dataframe tbody tr th {\n",
       "        vertical-align: top;\n",
       "    }\n",
       "\n",
       "    .dataframe thead th {\n",
       "        text-align: right;\n",
       "    }\n",
       "</style>\n",
       "<table border=\"1\" class=\"dataframe\">\n",
       "  <thead>\n",
       "    <tr style=\"text-align: right;\">\n",
       "      <th></th>\n",
       "      <th>sepal length (cm)</th>\n",
       "      <th>sepal width (cm)</th>\n",
       "      <th>petal length (cm)</th>\n",
       "      <th>petal width (cm)</th>\n",
       "      <th>iris kind</th>\n",
       "      <th>iris name</th>\n",
       "    </tr>\n",
       "  </thead>\n",
       "  <tbody>\n",
       "    <tr>\n",
       "      <th>0</th>\n",
       "      <td>5.1</td>\n",
       "      <td>3.5</td>\n",
       "      <td>1.4</td>\n",
       "      <td>0.2</td>\n",
       "      <td>0</td>\n",
       "      <td>setosa</td>\n",
       "    </tr>\n",
       "    <tr>\n",
       "      <th>1</th>\n",
       "      <td>4.9</td>\n",
       "      <td>3.0</td>\n",
       "      <td>1.4</td>\n",
       "      <td>0.2</td>\n",
       "      <td>0</td>\n",
       "      <td>setosa</td>\n",
       "    </tr>\n",
       "    <tr>\n",
       "      <th>2</th>\n",
       "      <td>4.7</td>\n",
       "      <td>3.2</td>\n",
       "      <td>1.3</td>\n",
       "      <td>0.2</td>\n",
       "      <td>0</td>\n",
       "      <td>setosa</td>\n",
       "    </tr>\n",
       "    <tr>\n",
       "      <th>3</th>\n",
       "      <td>4.6</td>\n",
       "      <td>3.1</td>\n",
       "      <td>1.5</td>\n",
       "      <td>0.2</td>\n",
       "      <td>0</td>\n",
       "      <td>setosa</td>\n",
       "    </tr>\n",
       "    <tr>\n",
       "      <th>4</th>\n",
       "      <td>5.0</td>\n",
       "      <td>3.6</td>\n",
       "      <td>1.4</td>\n",
       "      <td>0.2</td>\n",
       "      <td>0</td>\n",
       "      <td>setosa</td>\n",
       "    </tr>\n",
       "  </tbody>\n",
       "</table>\n",
       "</div>"
      ],
      "text/plain": [
       "   sepal length (cm)  sepal width (cm)  petal length (cm)  petal width (cm)  \\\n",
       "0                5.1               3.5                1.4               0.2   \n",
       "1                4.9               3.0                1.4               0.2   \n",
       "2                4.7               3.2                1.3               0.2   \n",
       "3                4.6               3.1                1.5               0.2   \n",
       "4                5.0               3.6                1.4               0.2   \n",
       "\n",
       "   iris kind iris name  \n",
       "0          0    setosa  \n",
       "1          0    setosa  \n",
       "2          0    setosa  \n",
       "3          0    setosa  \n",
       "4          0    setosa  "
      ]
     },
     "metadata": {},
     "output_type": "display_data"
    },
    {
     "name": "stdout",
     "output_type": "stream",
     "text": [
      "形状は (150, 6)\n"
     ]
    }
   ],
   "source": [
    "# アイリスデータセットの読み込み\n",
    "from sklearn.datasets import load_iris\n",
    "# アイリスのデータセットを読み込む\n",
    "b_iris = load_iris()\n",
    "\n",
    "# データフレームに変換する\n",
    "df_iris = pd.DataFrame(data=b_iris.data, columns=b_iris.feature_names)\n",
    "\n",
    "# アイリスの種類を追加する\n",
    "df_iris['iris kind'] = b_iris.target\n",
    "\n",
    "# アイリスの名前を表す列を追加する。applyメソッドは引数に関数を取り、各要素に対して関数を適用する。\n",
    "# lambdaは無名関数を定義する。xは引数。if文は三項演算子と同じ。\n",
    "df_iris['iris name'] = df_iris['iris kind'].apply(lambda x: 'setosa' if x == 0 else 'versicolor' if x == 1 else 'virginica')\n",
    "# 結果を表示する\n",
    "display_custom(df_iris)"
   ]
  },
  {
   "cell_type": "code",
   "execution_count": 4,
   "metadata": {
    "vscode": {
     "languageId": "python"
    }
   },
   "outputs": [
    {
     "name": "stdout",
     "output_type": "stream",
     "text": [
      "変数名 :  df_x_org  変数型は  <class 'pandas.core.frame.DataFrame'>\n"
     ]
    },
    {
     "data": {
      "text/html": [
       "<div>\n",
       "<style scoped>\n",
       "    .dataframe tbody tr th:only-of-type {\n",
       "        vertical-align: middle;\n",
       "    }\n",
       "\n",
       "    .dataframe tbody tr th {\n",
       "        vertical-align: top;\n",
       "    }\n",
       "\n",
       "    .dataframe thead th {\n",
       "        text-align: right;\n",
       "    }\n",
       "</style>\n",
       "<table border=\"1\" class=\"dataframe\">\n",
       "  <thead>\n",
       "    <tr style=\"text-align: right;\">\n",
       "      <th></th>\n",
       "      <th>sepal length (cm)</th>\n",
       "      <th>sepal width (cm)</th>\n",
       "      <th>petal length (cm)</th>\n",
       "      <th>petal width (cm)</th>\n",
       "    </tr>\n",
       "  </thead>\n",
       "  <tbody>\n",
       "    <tr>\n",
       "      <th>0</th>\n",
       "      <td>5.1</td>\n",
       "      <td>3.5</td>\n",
       "      <td>1.4</td>\n",
       "      <td>0.2</td>\n",
       "    </tr>\n",
       "    <tr>\n",
       "      <th>1</th>\n",
       "      <td>4.9</td>\n",
       "      <td>3.0</td>\n",
       "      <td>1.4</td>\n",
       "      <td>0.2</td>\n",
       "    </tr>\n",
       "    <tr>\n",
       "      <th>2</th>\n",
       "      <td>4.7</td>\n",
       "      <td>3.2</td>\n",
       "      <td>1.3</td>\n",
       "      <td>0.2</td>\n",
       "    </tr>\n",
       "    <tr>\n",
       "      <th>3</th>\n",
       "      <td>4.6</td>\n",
       "      <td>3.1</td>\n",
       "      <td>1.5</td>\n",
       "      <td>0.2</td>\n",
       "    </tr>\n",
       "    <tr>\n",
       "      <th>4</th>\n",
       "      <td>5.0</td>\n",
       "      <td>3.6</td>\n",
       "      <td>1.4</td>\n",
       "      <td>0.2</td>\n",
       "    </tr>\n",
       "  </tbody>\n",
       "</table>\n",
       "</div>"
      ],
      "text/plain": [
       "   sepal length (cm)  sepal width (cm)  petal length (cm)  petal width (cm)\n",
       "0                5.1               3.5                1.4               0.2\n",
       "1                4.9               3.0                1.4               0.2\n",
       "2                4.7               3.2                1.3               0.2\n",
       "3                4.6               3.1                1.5               0.2\n",
       "4                5.0               3.6                1.4               0.2"
      ]
     },
     "metadata": {},
     "output_type": "display_data"
    },
    {
     "name": "stdout",
     "output_type": "stream",
     "text": [
      "形状は (150, 4)\n",
      "変数名 :  df_y_org  変数型は  <class 'pandas.core.frame.DataFrame'>\n"
     ]
    },
    {
     "data": {
      "text/html": [
       "<div>\n",
       "<style scoped>\n",
       "    .dataframe tbody tr th:only-of-type {\n",
       "        vertical-align: middle;\n",
       "    }\n",
       "\n",
       "    .dataframe tbody tr th {\n",
       "        vertical-align: top;\n",
       "    }\n",
       "\n",
       "    .dataframe thead th {\n",
       "        text-align: right;\n",
       "    }\n",
       "</style>\n",
       "<table border=\"1\" class=\"dataframe\">\n",
       "  <thead>\n",
       "    <tr style=\"text-align: right;\">\n",
       "      <th></th>\n",
       "      <th>iris kind</th>\n",
       "    </tr>\n",
       "  </thead>\n",
       "  <tbody>\n",
       "    <tr>\n",
       "      <th>0</th>\n",
       "      <td>0</td>\n",
       "    </tr>\n",
       "    <tr>\n",
       "      <th>1</th>\n",
       "      <td>0</td>\n",
       "    </tr>\n",
       "    <tr>\n",
       "      <th>2</th>\n",
       "      <td>0</td>\n",
       "    </tr>\n",
       "    <tr>\n",
       "      <th>3</th>\n",
       "      <td>0</td>\n",
       "    </tr>\n",
       "    <tr>\n",
       "      <th>4</th>\n",
       "      <td>0</td>\n",
       "    </tr>\n",
       "  </tbody>\n",
       "</table>\n",
       "</div>"
      ],
      "text/plain": [
       "   iris kind\n",
       "0          0\n",
       "1          0\n",
       "2          0\n",
       "3          0\n",
       "4          0"
      ]
     },
     "metadata": {},
     "output_type": "display_data"
    },
    {
     "name": "stdout",
     "output_type": "stream",
     "text": [
      "形状は (150, 1)\n"
     ]
    }
   ],
   "source": [
    "#入力データと正解ラベルを作成する。\n",
    "df_x_org = df_iris[b_iris.feature_names]\n",
    "df_y_org = df_iris[['iris kind',]]\n",
    "display_custom(df_x_org)\n",
    "display_custom(df_y_org)"
   ]
  },
  {
   "cell_type": "code",
   "execution_count": 5,
   "metadata": {
    "vscode": {
     "languageId": "python"
    }
   },
   "outputs": [
    {
     "name": "stdout",
     "output_type": "stream",
     "text": [
      "変数名 :  df_x  変数型は  <class 'pandas.core.frame.DataFrame'>\n"
     ]
    },
    {
     "data": {
      "text/html": [
       "<div>\n",
       "<style scoped>\n",
       "    .dataframe tbody tr th:only-of-type {\n",
       "        vertical-align: middle;\n",
       "    }\n",
       "\n",
       "    .dataframe tbody tr th {\n",
       "        vertical-align: top;\n",
       "    }\n",
       "\n",
       "    .dataframe thead th {\n",
       "        text-align: right;\n",
       "    }\n",
       "</style>\n",
       "<table border=\"1\" class=\"dataframe\">\n",
       "  <thead>\n",
       "    <tr style=\"text-align: right;\">\n",
       "      <th></th>\n",
       "      <th>sepal length (cm)</th>\n",
       "      <th>sepal width (cm)</th>\n",
       "    </tr>\n",
       "  </thead>\n",
       "  <tbody>\n",
       "    <tr>\n",
       "      <th>0</th>\n",
       "      <td>5.1</td>\n",
       "      <td>3.5</td>\n",
       "    </tr>\n",
       "    <tr>\n",
       "      <th>1</th>\n",
       "      <td>4.9</td>\n",
       "      <td>3.0</td>\n",
       "    </tr>\n",
       "    <tr>\n",
       "      <th>2</th>\n",
       "      <td>4.7</td>\n",
       "      <td>3.2</td>\n",
       "    </tr>\n",
       "    <tr>\n",
       "      <th>3</th>\n",
       "      <td>4.6</td>\n",
       "      <td>3.1</td>\n",
       "    </tr>\n",
       "    <tr>\n",
       "      <th>4</th>\n",
       "      <td>5.0</td>\n",
       "      <td>3.6</td>\n",
       "    </tr>\n",
       "  </tbody>\n",
       "</table>\n",
       "</div>"
      ],
      "text/plain": [
       "   sepal length (cm)  sepal width (cm)\n",
       "0                5.1               3.5\n",
       "1                4.9               3.0\n",
       "2                4.7               3.2\n",
       "3                4.6               3.1\n",
       "4                5.0               3.6"
      ]
     },
     "metadata": {},
     "output_type": "display_data"
    },
    {
     "name": "stdout",
     "output_type": "stream",
     "text": [
      "形状は (100, 2)\n",
      "変数名 :  df_y  変数型は  <class 'pandas.core.frame.DataFrame'>\n"
     ]
    },
    {
     "data": {
      "text/html": [
       "<div>\n",
       "<style scoped>\n",
       "    .dataframe tbody tr th:only-of-type {\n",
       "        vertical-align: middle;\n",
       "    }\n",
       "\n",
       "    .dataframe tbody tr th {\n",
       "        vertical-align: top;\n",
       "    }\n",
       "\n",
       "    .dataframe thead th {\n",
       "        text-align: right;\n",
       "    }\n",
       "</style>\n",
       "<table border=\"1\" class=\"dataframe\">\n",
       "  <thead>\n",
       "    <tr style=\"text-align: right;\">\n",
       "      <th></th>\n",
       "      <th>iris kind</th>\n",
       "    </tr>\n",
       "  </thead>\n",
       "  <tbody>\n",
       "    <tr>\n",
       "      <th>0</th>\n",
       "      <td>0</td>\n",
       "    </tr>\n",
       "    <tr>\n",
       "      <th>1</th>\n",
       "      <td>0</td>\n",
       "    </tr>\n",
       "    <tr>\n",
       "      <th>2</th>\n",
       "      <td>0</td>\n",
       "    </tr>\n",
       "    <tr>\n",
       "      <th>3</th>\n",
       "      <td>0</td>\n",
       "    </tr>\n",
       "    <tr>\n",
       "      <th>4</th>\n",
       "      <td>0</td>\n",
       "    </tr>\n",
       "  </tbody>\n",
       "</table>\n",
       "</div>"
      ],
      "text/plain": [
       "   iris kind\n",
       "0          0\n",
       "1          0\n",
       "2          0\n",
       "3          0\n",
       "4          0"
      ]
     },
     "metadata": {},
     "output_type": "display_data"
    },
    {
     "name": "stdout",
     "output_type": "stream",
     "text": [
      "形状は (100, 1)\n"
     ]
    },
    {
     "data": {
      "image/png": "[encoded data removed]",
      "text/plain": [
       "<Figure size 640x480 with 1 Axes>"
      ]
     },
     "metadata": {},
     "output_type": "display_data"
    }
   ],
   "source": [
    "# 今回は2値分類を行うので、'virginica'は除外する。また、入力データは2次元配列にするため、'sepal length (cm)'と'sepal width (cm)'の2列のみを使用する。\n",
    "df_x = df_x_org[df_iris['iris name'] != 'virginica'][['sepal length (cm)','sepal width (cm)']]\n",
    "df_y = df_y_org[df_iris['iris name'] != 'virginica']\n",
    "display_custom(df_x)\n",
    "display_custom(df_y)\n",
    "plt.plot(df_x[df_y['iris kind'] == 0]['sepal length (cm)'], df_x[df_y['iris kind'] == 0]['sepal width (cm)'], 'o', label='setosa')\n",
    "plt.plot(df_x[df_y['iris kind'] == 1]['sepal length (cm)'], df_x[df_y['iris kind'] == 1]['sepal width (cm)'], 'x', label='versicolor')\n",
    "plt.xlabel('sepal length (cm)')\n",
    "plt.ylabel('sepal width (cm)')\n",
    "plt.legend()\n",
    "plt.show()\n"
   ]
  },
  {
   "cell_type": "code",
   "execution_count": 6,
   "metadata": {
    "vscode": {
     "languageId": "python"
    }
   },
   "outputs": [
    {
     "name": "stdout",
     "output_type": "stream",
     "text": [
      "変数名 :  df_x_train  変数型は  <class 'pandas.core.frame.DataFrame'>\n"
     ]
    },
    {
     "data": {
      "text/html": [
       "<div>\n",
       "<style scoped>\n",
       "    .dataframe tbody tr th:only-of-type {\n",
       "        vertical-align: middle;\n",
       "    }\n",
       "\n",
       "    .dataframe tbody tr th {\n",
       "        vertical-align: top;\n",
       "    }\n",
       "\n",
       "    .dataframe thead th {\n",
       "        text-align: right;\n",
       "    }\n",
       "</style>\n",
       "<table border=\"1\" class=\"dataframe\">\n",
       "  <thead>\n",
       "    <tr style=\"text-align: right;\">\n",
       "      <th></th>\n",
       "      <th>sepal length (cm)</th>\n",
       "      <th>sepal width (cm)</th>\n",
       "    </tr>\n",
       "  </thead>\n",
       "  <tbody>\n",
       "    <tr>\n",
       "      <th>21</th>\n",
       "      <td>5.1</td>\n",
       "      <td>3.7</td>\n",
       "    </tr>\n",
       "    <tr>\n",
       "      <th>90</th>\n",
       "      <td>5.5</td>\n",
       "      <td>2.6</td>\n",
       "    </tr>\n",
       "    <tr>\n",
       "      <th>33</th>\n",
       "      <td>5.5</td>\n",
       "      <td>4.2</td>\n",
       "    </tr>\n",
       "    <tr>\n",
       "      <th>69</th>\n",
       "      <td>5.6</td>\n",
       "      <td>2.5</td>\n",
       "    </tr>\n",
       "    <tr>\n",
       "      <th>84</th>\n",
       "      <td>5.4</td>\n",
       "      <td>3.0</td>\n",
       "    </tr>\n",
       "  </tbody>\n",
       "</table>\n",
       "</div>"
      ],
      "text/plain": [
       "    sepal length (cm)  sepal width (cm)\n",
       "21                5.1               3.7\n",
       "90                5.5               2.6\n",
       "33                5.5               4.2\n",
       "69                5.6               2.5\n",
       "84                5.4               3.0"
      ]
     },
     "metadata": {},
     "output_type": "display_data"
    },
    {
     "name": "stdout",
     "output_type": "stream",
     "text": [
      "形状は (70, 2)\n",
      "変数名 :  df_x_test  変数型は  <class 'pandas.core.frame.DataFrame'>\n"
     ]
    },
    {
     "data": {
      "text/html": [
       "<div>\n",
       "<style scoped>\n",
       "    .dataframe tbody tr th:only-of-type {\n",
       "        vertical-align: middle;\n",
       "    }\n",
       "\n",
       "    .dataframe tbody tr th {\n",
       "        vertical-align: top;\n",
       "    }\n",
       "\n",
       "    .dataframe thead th {\n",
       "        text-align: right;\n",
       "    }\n",
       "</style>\n",
       "<table border=\"1\" class=\"dataframe\">\n",
       "  <thead>\n",
       "    <tr style=\"text-align: right;\">\n",
       "      <th></th>\n",
       "      <th>sepal length (cm)</th>\n",
       "      <th>sepal width (cm)</th>\n",
       "    </tr>\n",
       "  </thead>\n",
       "  <tbody>\n",
       "    <tr>\n",
       "      <th>8</th>\n",
       "      <td>4.4</td>\n",
       "      <td>2.9</td>\n",
       "    </tr>\n",
       "    <tr>\n",
       "      <th>70</th>\n",
       "      <td>5.9</td>\n",
       "      <td>3.2</td>\n",
       "    </tr>\n",
       "    <tr>\n",
       "      <th>82</th>\n",
       "      <td>5.8</td>\n",
       "      <td>2.7</td>\n",
       "    </tr>\n",
       "    <tr>\n",
       "      <th>28</th>\n",
       "      <td>5.2</td>\n",
       "      <td>3.4</td>\n",
       "    </tr>\n",
       "    <tr>\n",
       "      <th>63</th>\n",
       "      <td>6.1</td>\n",
       "      <td>2.9</td>\n",
       "    </tr>\n",
       "  </tbody>\n",
       "</table>\n",
       "</div>"
      ],
      "text/plain": [
       "    sepal length (cm)  sepal width (cm)\n",
       "8                 4.4               2.9\n",
       "70                5.9               3.2\n",
       "82                5.8               2.7\n",
       "28                5.2               3.4\n",
       "63                6.1               2.9"
      ]
     },
     "metadata": {},
     "output_type": "display_data"
    },
    {
     "name": "stdout",
     "output_type": "stream",
     "text": [
      "形状は (30, 2)\n",
      "変数名 :  df_y_train  変数型は  <class 'pandas.core.frame.DataFrame'>\n"
     ]
    },
    {
     "data": {
      "text/html": [
       "<div>\n",
       "<style scoped>\n",
       "    .dataframe tbody tr th:only-of-type {\n",
       "        vertical-align: middle;\n",
       "    }\n",
       "\n",
       "    .dataframe tbody tr th {\n",
       "        vertical-align: top;\n",
       "    }\n",
       "\n",
       "    .dataframe thead th {\n",
       "        text-align: right;\n",
       "    }\n",
       "</style>\n",
       "<table border=\"1\" class=\"dataframe\">\n",
       "  <thead>\n",
       "    <tr style=\"text-align: right;\">\n",
       "      <th></th>\n",
       "      <th>iris kind</th>\n",
       "    </tr>\n",
       "  </thead>\n",
       "  <tbody>\n",
       "    <tr>\n",
       "      <th>21</th>\n",
       "      <td>0</td>\n",
       "    </tr>\n",
       "    <tr>\n",
       "      <th>90</th>\n",
       "      <td>1</td>\n",
       "    </tr>\n",
       "    <tr>\n",
       "      <th>33</th>\n",
       "      <td>0</td>\n",
       "    </tr>\n",
       "    <tr>\n",
       "      <th>69</th>\n",
       "      <td>1</td>\n",
       "    </tr>\n",
       "    <tr>\n",
       "      <th>84</th>\n",
       "      <td>1</td>\n",
       "    </tr>\n",
       "  </tbody>\n",
       "</table>\n",
       "</div>"
      ],
      "text/plain": [
       "    iris kind\n",
       "21          0\n",
       "90          1\n",
       "33          0\n",
       "69          1\n",
       "84          1"
      ]
     },
     "metadata": {},
     "output_type": "display_data"
    },
    {
     "name": "stdout",
     "output_type": "stream",
     "text": [
      "形状は (70, 1)\n",
      "変数名 :  df_y_test  変数型は  <class 'pandas.core.frame.DataFrame'>\n"
     ]
    },
    {
     "data": {
      "text/html": [
       "<div>\n",
       "<style scoped>\n",
       "    .dataframe tbody tr th:only-of-type {\n",
       "        vertical-align: middle;\n",
       "    }\n",
       "\n",
       "    .dataframe tbody tr th {\n",
       "        vertical-align: top;\n",
       "    }\n",
       "\n",
       "    .dataframe thead th {\n",
       "        text-align: right;\n",
       "    }\n",
       "</style>\n",
       "<table border=\"1\" class=\"dataframe\">\n",
       "  <thead>\n",
       "    <tr style=\"text-align: right;\">\n",
       "      <th></th>\n",
       "      <th>iris kind</th>\n",
       "    </tr>\n",
       "  </thead>\n",
       "  <tbody>\n",
       "    <tr>\n",
       "      <th>8</th>\n",
       "      <td>0</td>\n",
       "    </tr>\n",
       "    <tr>\n",
       "      <th>70</th>\n",
       "      <td>1</td>\n",
       "    </tr>\n",
       "    <tr>\n",
       "      <th>82</th>\n",
       "      <td>1</td>\n",
       "    </tr>\n",
       "    <tr>\n",
       "      <th>28</th>\n",
       "      <td>0</td>\n",
       "    </tr>\n",
       "    <tr>\n",
       "      <th>63</th>\n",
       "      <td>1</td>\n",
       "    </tr>\n",
       "  </tbody>\n",
       "</table>\n",
       "</div>"
      ],
      "text/plain": [
       "    iris kind\n",
       "8           0\n",
       "70          1\n",
       "82          1\n",
       "28          0\n",
       "63          1"
      ]
     },
     "metadata": {},
     "output_type": "display_data"
    },
    {
     "name": "stdout",
     "output_type": "stream",
     "text": [
      "形状は (30, 1)\n"
     ]
    }
   ],
   "source": [
    "# データを訓練用とテスト用に分割する。\n",
    "df_x_train, df_x_test, df_y_train, df_y_test = train_test_split(df_x, df_y, test_size=0.3, random_state=123)\n",
    "display_custom(df_x_train,df_x_test,df_y_train,df_y_test)"
   ]
  },
  {
   "cell_type": "code",
   "execution_count": 7,
   "metadata": {
    "vscode": {
     "languageId": "python"
    }
   },
   "outputs": [],
   "source": [
    "# データをテンソルに変換するためにnumpy配列に変換する。\n",
    "np_x_train = df_x_train.values\n",
    "np_x_test = df_x_test.values\n",
    "np_y_train = df_y_train.values\n",
    "np_y_test = df_y_test.values\n",
    "\n",
    "# データをテンソルに変換する。\n",
    "t_x_train = torch.tensor(np_x_train).float()\n",
    "t_x_test = torch.tensor(np_x_test).float()\n",
    "t_y_train = torch.tensor(np_y_train).float()\n",
    "t_y_test = torch.tensor(np_y_test).float()\n"
   ]
  },
  {
   "cell_type": "code",
   "execution_count": 8,
   "metadata": {
    "vscode": {
     "languageId": "python"
    }
   },
   "outputs": [],
   "source": [
    "# モデルの定義\n",
    "# 2入力1出力のロジスティクス回帰モデルを定義する。\n",
    "class Net(nn.Module):\n",
    "    def __init__(self, input_size, output_size):\n",
    "        super(Net, self).__init__()\n",
    "        self.li = nn.Linear(input_size, output_size)\n",
    "        self.sigmoid = nn.Sigmoid()\n",
    "\n",
    "        # 重みの初期化\n",
    "        \n",
    "        self.li.weight.data.fill_(1.0)\n",
    "        self.li.bias.data.fill_(1.0)\n",
    "\n",
    "    #予測関数の定義\n",
    "    def forward(self, x):\n",
    "        x = self.li(x)\n",
    "        x = self.sigmoid(x)\n",
    "        return x"
   ]
  },
  {
   "cell_type": "code",
   "execution_count": 9,
   "metadata": {
    "vscode": {
     "languageId": "python"
    }
   },
   "outputs": [
    {
     "name": "stdout",
     "output_type": "stream",
     "text": [
      "入力データの次元数は 2\n",
      "出力データの次元数は 1\n"
     ]
    }
   ],
   "source": [
    "# 入力データの次元数を取得する。\n",
    "inputs = t_x_train\n",
    "input_size = t_x_train.shape[1]\n",
    "# 出力データの次元数を取得する。\n",
    "output_size = t_y_train.shape[1]\n",
    "label = t_y_train\n",
    "print(\"入力データの次元数は\",input_size)\n",
    "print(\"出力データの次元数は\",output_size)"
   ]
  },
  {
   "cell_type": "code",
   "execution_count": 10,
   "metadata": {
    "vscode": {
     "languageId": "python"
    }
   },
   "outputs": [
    {
     "data": {
      "image/svg+xml": "<?xml version=\"1.0\" encoding=\"UTF-8\" standalone=\"no\"?>\n<!DOCTYPE svg PUBLIC \"-//W3C//DTD SVG 1.1//EN\"\n \"http://www.w3.org/Graphics/SVG/1.1/DTD/svg11.dtd\">\n<!-- Generated by graphviz version 2.40.1 (20161225.0304)\n -->\n<!-- Title: %3 Pages: 1 -->\n<svg width=\"216pt\" height=\"391pt\"\n viewBox=\"0.00 0.00 216.00 391.00\" xmlns=\"http://www.w3.org/2000/svg\" xmlns:xlink=\"http://www.w3.org/1999/xlink\">\n<g id=\"graph0\" class=\"graph\" transform=\"scale(1 1) rotate(0) translate(4 387)\">\n<title>%3</title>\n<polygon fill=\"#ffffff\" stroke=\"transparent\" points=\"-4,4 -4,-387 212,-387 212,4 -4,4\"/>\n<!-- 140043652902560 -->\n<g id=\"node1\" class=\"node\">\n<title>140043652902560</title>\n<polygon fill=\"#caff70\" stroke=\"#000000\" points=\"130.5,-31 76.5,-31 76.5,0 130.5,0 130.5,-31\"/>\n<text text-anchor=\"middle\" x=\"103.5\" y=\"-7\" font-family=\"monospace\" font-size=\"10.00\" fill=\"#000000\"> ()</text>\n</g>\n<!-- 140043652860320 -->\n<g id=\"node2\" class=\"node\">\n<title>140043652860320</title>\n<polygon fill=\"#d3d3d3\" stroke=\"#000000\" points=\"193,-86 14,-86 14,-67 193,-67 193,-86\"/>\n<text text-anchor=\"middle\" x=\"103.5\" y=\"-74\" font-family=\"monospace\" font-size=\"10.00\" fill=\"#000000\">BinaryCrossEntropyBackward0</text>\n</g>\n<!-- 140043652860320&#45;&gt;140043652902560 -->\n<g id=\"edge8\" class=\"edge\">\n<title>140043652860320&#45;&gt;140043652902560</title>\n<path fill=\"none\" stroke=\"#000000\" d=\"M103.5,-66.9688C103.5,-60.1289 103.5,-50.5621 103.5,-41.5298\"/>\n<polygon fill=\"#000000\" stroke=\"#000000\" points=\"107.0001,-41.3678 103.5,-31.3678 100.0001,-41.3678 107.0001,-41.3678\"/>\n</g>\n<!-- 140047237476656 -->\n<g id=\"node3\" class=\"node\">\n<title>140047237476656</title>\n<polygon fill=\"#d3d3d3\" stroke=\"#000000\" points=\"160,-141 47,-141 47,-122 160,-122 160,-141\"/>\n<text text-anchor=\"middle\" x=\"103.5\" y=\"-129\" font-family=\"monospace\" font-size=\"10.00\" fill=\"#000000\">SigmoidBackward0</text>\n</g>\n<!-- 140047237476656&#45;&gt;140043652860320 -->\n<g id=\"edge1\" class=\"edge\">\n<title>140047237476656&#45;&gt;140043652860320</title>\n<path fill=\"none\" stroke=\"#000000\" d=\"M103.5,-121.9197C103.5,-114.9083 103.5,-105.1442 103.5,-96.4652\"/>\n<polygon fill=\"#000000\" stroke=\"#000000\" points=\"107.0001,-96.3408 103.5,-86.3408 100.0001,-96.3409 107.0001,-96.3408\"/>\n</g>\n<!-- 140043652806592 -->\n<g id=\"node4\" class=\"node\">\n<title>140043652806592</title>\n<polygon fill=\"#d3d3d3\" stroke=\"#000000\" points=\"154,-196 53,-196 53,-177 154,-177 154,-196\"/>\n<text text-anchor=\"middle\" x=\"103.5\" y=\"-184\" font-family=\"monospace\" font-size=\"10.00\" fill=\"#000000\">AddmmBackward0</text>\n</g>\n<!-- 140043652806592&#45;&gt;140047237476656 -->\n<g id=\"edge2\" class=\"edge\">\n<title>140043652806592&#45;&gt;140047237476656</title>\n<path fill=\"none\" stroke=\"#000000\" d=\"M103.5,-176.9197C103.5,-169.9083 103.5,-160.1442 103.5,-151.4652\"/>\n<polygon fill=\"#000000\" stroke=\"#000000\" points=\"107.0001,-151.3408 103.5,-141.3408 100.0001,-151.3409 107.0001,-151.3408\"/>\n</g>\n<!-- 140047237477712 -->\n<g id=\"node5\" class=\"node\">\n<title>140047237477712</title>\n<polygon fill=\"#d3d3d3\" stroke=\"#000000\" points=\"101,-251 0,-251 0,-232 101,-232 101,-251\"/>\n<text text-anchor=\"middle\" x=\"50.5\" y=\"-239\" font-family=\"monospace\" font-size=\"10.00\" fill=\"#000000\">AccumulateGrad</text>\n</g>\n<!-- 140047237477712&#45;&gt;140043652806592 -->\n<g id=\"edge3\" class=\"edge\">\n<title>140047237477712&#45;&gt;140043652806592</title>\n<path fill=\"none\" stroke=\"#000000\" d=\"M59.7319,-231.9197C67.2391,-224.1293 78.021,-212.9405 87.0049,-203.6176\"/>\n<polygon fill=\"#000000\" stroke=\"#000000\" points=\"89.5983,-205.9703 94.017,-196.3408 84.5578,-201.113 89.5983,-205.9703\"/>\n</g>\n<!-- 140047213372656 -->\n<g id=\"node6\" class=\"node\">\n<title>140047213372656</title>\n<polygon fill=\"#add8e6\" stroke=\"#000000\" points=\"80,-317 21,-317 21,-287 80,-287 80,-317\"/>\n<text text-anchor=\"middle\" x=\"50.5\" y=\"-305\" font-family=\"monospace\" font-size=\"10.00\" fill=\"#000000\">li.bias</text>\n<text text-anchor=\"middle\" x=\"50.5\" y=\"-294\" font-family=\"monospace\" font-size=\"10.00\" fill=\"#000000\"> (1)</text>\n</g>\n<!-- 140047213372656&#45;&gt;140047237477712 -->\n<g id=\"edge4\" class=\"edge\">\n<title>140047213372656&#45;&gt;140047237477712</title>\n<path fill=\"none\" stroke=\"#000000\" d=\"M50.5,-286.7333C50.5,-279.0322 50.5,-269.5977 50.5,-261.3414\"/>\n<polygon fill=\"#000000\" stroke=\"#000000\" points=\"54.0001,-261.0864 50.5,-251.0864 47.0001,-261.0864 54.0001,-261.0864\"/>\n</g>\n<!-- 140043654455840 -->\n<g id=\"node7\" class=\"node\">\n<title>140043654455840</title>\n<polygon fill=\"#d3d3d3\" stroke=\"#000000\" points=\"196,-251 119,-251 119,-232 196,-232 196,-251\"/>\n<text text-anchor=\"middle\" x=\"157.5\" y=\"-239\" font-family=\"monospace\" font-size=\"10.00\" fill=\"#000000\">TBackward0</text>\n</g>\n<!-- 140043654455840&#45;&gt;140043652806592 -->\n<g id=\"edge5\" class=\"edge\">\n<title>140043654455840&#45;&gt;140043652806592</title>\n<path fill=\"none\" stroke=\"#000000\" d=\"M148.0939,-231.9197C140.4451,-224.1293 129.4597,-212.9405 120.3064,-203.6176\"/>\n<polygon fill=\"#000000\" stroke=\"#000000\" points=\"122.6653,-201.0244 113.1619,-196.3408 117.6704,-205.9286 122.6653,-201.0244\"/>\n</g>\n<!-- 140043654458720 -->\n<g id=\"node8\" class=\"node\">\n<title>140043654458720</title>\n<polygon fill=\"#d3d3d3\" stroke=\"#000000\" points=\"208,-311.5 107,-311.5 107,-292.5 208,-292.5 208,-311.5\"/>\n<text text-anchor=\"middle\" x=\"157.5\" y=\"-299.5\" font-family=\"monospace\" font-size=\"10.00\" fill=\"#000000\">AccumulateGrad</text>\n</g>\n<!-- 140043654458720&#45;&gt;140043654455840 -->\n<g id=\"edge6\" class=\"edge\">\n<title>140043654458720&#45;&gt;140043654455840</title>\n<path fill=\"none\" stroke=\"#000000\" d=\"M157.5,-292.2796C157.5,-284.0376 157.5,-271.9457 157.5,-261.629\"/>\n<polygon fill=\"#000000\" stroke=\"#000000\" points=\"161.0001,-261.3972 157.5,-251.3972 154.0001,-261.3973 161.0001,-261.3972\"/>\n</g>\n<!-- 140043654165344 -->\n<g id=\"node9\" class=\"node\">\n<title>140043654165344</title>\n<polygon fill=\"#add8e6\" stroke=\"#000000\" points=\"193,-383 122,-383 122,-353 193,-353 193,-383\"/>\n<text text-anchor=\"middle\" x=\"157.5\" y=\"-371\" font-family=\"monospace\" font-size=\"10.00\" fill=\"#000000\">li.weight</text>\n<text text-anchor=\"middle\" x=\"157.5\" y=\"-360\" font-family=\"monospace\" font-size=\"10.00\" fill=\"#000000\"> (1, 2)</text>\n</g>\n<!-- 140043654165344&#45;&gt;140043654458720 -->\n<g id=\"edge7\" class=\"edge\">\n<title>140043654165344&#45;&gt;140043654458720</title>\n<path fill=\"none\" stroke=\"#000000\" d=\"M157.5,-352.6924C157.5,-343.5067 157.5,-331.7245 157.5,-321.8312\"/>\n<polygon fill=\"#000000\" stroke=\"#000000\" points=\"161.0001,-321.703 157.5,-311.7031 154.0001,-321.7031 161.0001,-321.703\"/>\n</g>\n</g>\n</svg>\n",
      "text/plain": [
       "<graphviz.graphs.Digraph at 0x7f5e742db850>"
      ]
     },
     "metadata": {},
     "output_type": "display_data"
    }
   ],
   "source": [
    "# モデルのインスタンスを作成する。\n",
    "net = Net(input_size, output_size)\n",
    "\n",
    "# 計算グラフの可視化してみる。\n",
    "# モデルの構造を確認する。\n",
    "outputs =  net(inputs)\n",
    "\n",
    "loss = nn.BCELoss()(outputs, label)\n",
    "\n",
    "g = make_dot(loss, params=dict(net.named_parameters()))\n",
    "display(g)"
   ]
  },
  {
   "cell_type": "code",
   "execution_count": 11,
   "metadata": {
    "vscode": {
     "languageId": "python"
    }
   },
   "outputs": [
    {
     "name": "stdout",
     "output_type": "stream",
     "text": [
      "変数名 :  t_y_train  変数型は  <class 'torch.Tensor'>\n"
     ]
    },
    {
     "data": {
      "text/html": [
       "<div>\n",
       "<style scoped>\n",
       "    .dataframe tbody tr th:only-of-type {\n",
       "        vertical-align: middle;\n",
       "    }\n",
       "\n",
       "    .dataframe tbody tr th {\n",
       "        vertical-align: top;\n",
       "    }\n",
       "\n",
       "    .dataframe thead th {\n",
       "        text-align: right;\n",
       "    }\n",
       "</style>\n",
       "<table border=\"1\" class=\"dataframe\">\n",
       "  <thead>\n",
       "    <tr style=\"text-align: right;\">\n",
       "      <th></th>\n",
       "      <th>0</th>\n",
       "    </tr>\n",
       "  </thead>\n",
       "  <tbody>\n",
       "    <tr>\n",
       "      <th>0</th>\n",
       "      <td>0.0</td>\n",
       "    </tr>\n",
       "    <tr>\n",
       "      <th>1</th>\n",
       "      <td>1.0</td>\n",
       "    </tr>\n",
       "    <tr>\n",
       "      <th>2</th>\n",
       "      <td>0.0</td>\n",
       "    </tr>\n",
       "    <tr>\n",
       "      <th>3</th>\n",
       "      <td>1.0</td>\n",
       "    </tr>\n",
       "    <tr>\n",
       "      <th>4</th>\n",
       "      <td>1.0</td>\n",
       "    </tr>\n",
       "  </tbody>\n",
       "</table>\n",
       "</div>"
      ],
      "text/plain": [
       "     0\n",
       "0  0.0\n",
       "1  1.0\n",
       "2  0.0\n",
       "3  1.0\n",
       "4  1.0"
      ]
     },
     "metadata": {},
     "output_type": "display_data"
    },
    {
     "name": "stdout",
     "output_type": "stream",
     "text": [
      "形状は (70, 1)\n",
      "変数が見つかりませんでした。\n"
     ]
    },
    {
     "data": {
      "text/html": [
       "<div>\n",
       "<style scoped>\n",
       "    .dataframe tbody tr th:only-of-type {\n",
       "        vertical-align: middle;\n",
       "    }\n",
       "\n",
       "    .dataframe tbody tr th {\n",
       "        vertical-align: top;\n",
       "    }\n",
       "\n",
       "    .dataframe thead th {\n",
       "        text-align: right;\n",
       "    }\n",
       "</style>\n",
       "<table border=\"1\" class=\"dataframe\">\n",
       "  <thead>\n",
       "    <tr style=\"text-align: right;\">\n",
       "      <th></th>\n",
       "      <th>0</th>\n",
       "    </tr>\n",
       "  </thead>\n",
       "  <tbody>\n",
       "    <tr>\n",
       "      <th>0</th>\n",
       "      <td>0</td>\n",
       "    </tr>\n",
       "    <tr>\n",
       "      <th>1</th>\n",
       "      <td>0</td>\n",
       "    </tr>\n",
       "    <tr>\n",
       "      <th>2</th>\n",
       "      <td>0</td>\n",
       "    </tr>\n",
       "    <tr>\n",
       "      <th>3</th>\n",
       "      <td>0</td>\n",
       "    </tr>\n",
       "    <tr>\n",
       "      <th>4</th>\n",
       "      <td>0</td>\n",
       "    </tr>\n",
       "  </tbody>\n",
       "</table>\n",
       "</div>"
      ],
      "text/plain": [
       "   0\n",
       "0  0\n",
       "1  0\n",
       "2  0\n",
       "3  0\n",
       "4  0"
      ]
     },
     "metadata": {},
     "output_type": "display_data"
    },
    {
     "name": "stdout",
     "output_type": "stream",
     "text": [
      "形状は (70, 1)\n"
     ]
    }
   ],
   "source": [
    "# 学習率\n",
    "lr = 0.01\n",
    "# エポック数\n",
    "epochs = 10000\n",
    "# モデルのインスタンスを作成する。\n",
    "net = Net(input_size, output_size)\n",
    "# 損失関数の定義\n",
    "criterion = nn.BCELoss()\n",
    "# 最適化手法の定義\n",
    "optimizer = optim.SGD(net.parameters(), lr=lr)\n",
    "#記録用のリストを作成する。\n",
    "#訓練データの損失と精度、テストデータの損失と精度を記録する。\n",
    "history = np.zeros((0,5)) #0行5列の行列を作成する。5列は、訓練データの損失、訓練データの精度、テストデータの損失、テストデータの精度、エポック数を表す。"
   ]
  },
  {
   "cell_type": "code",
   "execution_count": 12,
   "metadata": {
    "vscode": {
     "languageId": "python"
    }
   },
   "outputs": [],
   "source": [
    "# 学習を実行する。\n",
    "for epoch in range(epochs):\n",
    "    # 勾配を初期化する。\n",
    "    optimizer.zero_grad()\n",
    "\n",
    "    # 順伝播を計算する。\n",
    "    outputs = net(t_x_train)\n",
    "\n",
    "    # 損失を計算する。\n",
    "    loss = criterion(outputs, label)\n",
    "\n",
    "    # 誤差逆伝播を計算する。\n",
    "    loss.backward()\n",
    "\n",
    "    if epoch % 10 == 0:\n",
    "\n",
    "        # 損失と精度を記録する。\n",
    "        # まずは訓練データの損失と精度を計算する。\n",
    "        loss_train = loss.item()\n",
    "        acc_train = accuracy_score(np_y_train, np.where(outputs.detach().numpy() < 0.5, 0, 1))\n",
    "        # テストデータの損失と精度を計算する。\n",
    "        loss_test = criterion(net(t_x_test), t_y_test).item()\n",
    "        acc_test = accuracy_score(np_y_test, np.where(net(t_x_test).detach().numpy() < 0.5, 0, 1))\n",
    "\n",
    "        # 記録用のリストに記録する。\n",
    "        history = np.vstack((history, np.array([epoch, loss_train, acc_train, loss_test, acc_test])))\n",
    "\n",
    "    # パラメータを更新する。\n",
    "    optimizer.step()\n"
   ]
  },
  {
   "cell_type": "code",
   "execution_count": 13,
   "metadata": {
    "vscode": {
     "languageId": "python"
    }
   },
   "outputs": [
    {
     "name": "stdout",
     "output_type": "stream",
     "text": [
      "初期状態: 損失=4.5868, 精度=0.5000\n",
      "最終状態: 損失=0.1540, 精度=0.9667\n"
     ]
    }
   ],
   "source": [
    "print(f'初期状態: 損失={history[0,3]:.4f}, 精度={history[0,4]:.4f}')\n",
    "print(f'最終状態: 損失={history[-1,3]:.4f}, 精度={history[-1,4]:.4f}')"
   ]
  },
  {
   "cell_type": "code",
   "execution_count": 14,
   "metadata": {
    "vscode": {
     "languageId": "python"
    }
   },
   "outputs": [
    {
     "data": {
      "image/png": "[encoded data removed]",
      "text/plain": [
       "<Figure size 640x480 with 1 Axes>"
      ]
     },
     "metadata": {},
     "output_type": "display_data"
    }
   ],
   "source": [
    "# 学習曲線(損失)を描画する。\n",
    "plt.plot(history[:,0], history[:,1], 'b',label=\"訓練\")\n",
    "plt.plot(history[:,0], history[:,3], 'r',label=\"テスト\")\n",
    "plt.xlabel('学習回数')\n",
    "plt.ylabel('損失')\n",
    "plt.title('損失の学習曲線(損失)')\n",
    "plt.grid(True)\n",
    "plt.legend()\n",
    "plt.show()"
   ]
  },
  {
   "cell_type": "code",
   "execution_count": 15,
   "metadata": {
    "vscode": {
     "languageId": "python"
    }
   },
   "outputs": [
    {
     "data": {
      "image/png": "[encoded data removed]",
      "text/plain": [
       "<Figure size 640x480 with 1 Axes>"
      ]
     },
     "metadata": {},
     "output_type": "display_data"
    }
   ],
   "source": [
    "# 学習曲線(精度)を描画する。\n",
    "plt.plot(history[:,0], history[:,2], 'b',label=\"訓練\")\n",
    "plt.plot(history[:,0], history[:,4], 'r',label=\"テスト\")\n",
    "plt.xlabel('学習回数')\n",
    "plt.ylabel('精度')\n",
    "plt.title('損失の学習曲線(精度)')\n",
    "plt.grid(True)\n",
    "plt.legend()\n",
    "plt.show()\n"
   ]
  },
  {
   "cell_type": "code",
   "execution_count": null,
   "metadata": {
    "vscode": {
     "languageId": "python"
    }
   },
   "outputs": [],
   "source": []
  }
 ],
 "metadata": {
  "kernelspec": {
   "display_name": "Python 3 (ipykernel)",
   "language": "python",
   "name": "python3"
  },
  "orig_nbformat": 4
 },
 "nbformat": 4,
 "nbformat_minor": 2
}
