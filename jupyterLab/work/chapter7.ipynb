{
 "cells": [
  {
   "cell_type": "markdown",
   "metadata": {},
   "source": [
    "# 多値分類(4変数ver)"
   ]
  },
  {
   "cell_type": "code",
   "execution_count": 2,
   "metadata": {},
   "outputs": [],
   "source": [
    "import numpy as np          # 数値計算ライブラリ\n",
    "import matplotlib.pyplot as plt    # グラフ描画ライブラリ\n",
    "import torch                 # 機械学習ライブラリPyTorch\n",
    "from torch import nn        # PyTorchのニューラルネットワークモジュール\n",
    "from torchviz import make_dot      # PyTorchのグラフ可視化ツール\n",
    "import japanize_matplotlib  # matplotlibの日本語表示を可能にするライブラリ\n",
    "import torch.optim as optim # PyTorchの最適化アルゴリズムを定義するoptimモジュール\n",
    "import pandas as pd         # データフレーム処理のためのライブラリ\n",
    "import sklearn              # 機械学習ライブラリscikit-learn\n",
    "from torchinfo import summary   # モデルのサマリー情報を表示するためのライブラリ\n",
    "from sklearn.model_selection import train_test_split  # データのトレーニングとテストの分割を行う関数\n",
    "from sklearn.metrics import accuracy_score   # 正解率を計算するための関数\n",
    "\n",
    "\n",
    "# 以下可視性のために定義。\n",
    "import inspect # フレームを取得するためのライブラリ\n",
    "from IPython.display import display # データフレームを表示するためのライブラリ\n",
    "\n",
    "# 引数の変数名を出力する変数。ただし仕様上、関数を呼び出した場所と同スコープの変数なら1。その一個上なら2，さらにひとつ上なら3にしなければならない。\n",
    "def print_var_name(var,n=1):\n",
    "    # 現在のフレームを取得する\n",
    "    current_frame = inspect.currentframe()\n",
    "    # 現在のフレームのn回外側のフレームを取得する\n",
    "    outer_frame = current_frame\n",
    "    for _ in range(n):\n",
    "        outer_frame =outer_frame.f_back\n",
    "    # 外側のフレームのローカル変数を取得する。2次元タプル?がずらっと配列で並んでいる。\n",
    "    locals_dict = outer_frame.f_locals\n",
    "    # 変数名を取得する\n",
    "    var_name = [k for k, v in locals_dict.items() if v is var]\n",
    "    if not var_name:\n",
    "        print(\"変数が見つかりませんでした。\")\n",
    "    else:\n",
    "        # 変数名を出力する\n",
    "        print(\"変数名 : \",var_name[0],\" 変数型は \",type(var))\n",
    "\n",
    "def dataframe_converter(func):\n",
    "    def wrapper(*args, **kwargs):\n",
    "        for arg in args:\n",
    "            \n",
    "            try:\n",
    "                print(\"形状は\",arg.shape)\n",
    "            except:\n",
    "                pass\n",
    "\n",
    "            try:\n",
    "                # 引数がNumPy配列の場合はPandasデータフレームに変換する\n",
    "                print_var_name(arg,2)\n",
    "                if isinstance(arg, np.ndarray):\n",
    "                    df = pd.DataFrame(arg)\n",
    "                    # デコレータで修飾された関数にデータフレームを渡す\n",
    "                    func(df)\n",
    "                elif isinstance(arg, torch.Tensor):\n",
    "                    df = pd.DataFrame(arg.detach().numpy())\n",
    "                    # デコレータで修飾された関数にデータフレームを渡す\n",
    "                    func(df)\n",
    "                elif isinstance(arg, sklearn.utils.Bunch):\n",
    "                    df = pd.DataFrame(arg.data, columns=arg.feature_names)\n",
    "                    # デコレータで修飾された関数にデータフレームを渡す\n",
    "                    func(df)\n",
    "                else:\n",
    "                    # デコレータで修飾された関数にそのままのオブジェクトを渡す\n",
    "                    func(arg)\n",
    "            except:\n",
    "                # デコレータで修飾された関数にそのままのオブジェクトを渡す\n",
    "                func(arg)\n",
    "    return wrapper\n",
    "\n",
    "@dataframe_converter\n",
    "def display_custom(obj,head=True): # 引数のオブジェクトを表示する。可視性を高めるためにpdに変更するがおそらく大規模の場合は乱用はパフォーマンスに影響する。\n",
    "    # 引数のオブジェクトを表示する\n",
    "    if head and isinstance(obj, pd.DataFrame):\n",
    "        display(obj.head())\n",
    "        \n",
    "    else:\n",
    "        display(obj)"
   ]
  },
  {
   "cell_type": "code",
   "execution_count": 3,
   "metadata": {},
   "outputs": [],
   "source": [
    "#変数名はできる限り短いプレフィックスを使用する。\n",
    "#np_をnumpy配列、df_をデータフレーム、t_をテンソル、b_をsklearn.utils.Bunchとする。"
   ]
  },
  {
   "cell_type": "code",
   "execution_count": 9,
   "metadata": {},
   "outputs": [],
   "source": [
    "# データの読み込み、前処理\n",
    "from sklearn.datasets import load_iris\n",
    "b_iris = load_iris()\n",
    "np_iris_params_data = b_iris.data\n",
    "np_iris_labels = b_iris.target"
   ]
  },
  {
   "cell_type": "code",
   "execution_count": 11,
   "metadata": {},
   "outputs": [],
   "source": [
    "# データの分割\n",
    "np_iris_params_train, np_iris_params_test, np_iris_labels_train, np_iris_labels_test = train_test_split(np_iris_params_data, np_iris_labels, test_size=0.5, random_state=0)"
   ]
  },
  {
   "cell_type": "code",
   "execution_count": 12,
   "metadata": {},
   "outputs": [],
   "source": [
    "# テンソルに変換\n",
    "t_iris_params_train = torch.tensor(np_iris_params_train, dtype=torch.float32)\n",
    "t_iris_params_test = torch.tensor(np_iris_params_test, dtype=torch.float32)\n",
    "t_iris_labels_train = torch.tensor(np_iris_labels_train, dtype=torch.int64)\n",
    "t_iris_labels_test = torch.tensor(np_iris_labels_test, dtype=torch.int64)\n"
   ]
  },
  {
   "cell_type": "code",
   "execution_count": 19,
   "metadata": {},
   "outputs": [],
   "source": [
    "#  モデルの定義\n",
    "# - nn.Moduleを継承した独自のネットワーククラスを作成\n",
    "# - 層の構造や活性化関数などを定義\n",
    "\n",
    "class Net(nn.Module):\n",
    "    def __init__(self,n_input,n_output):\n",
    "        super().__init__()\n",
    "        self.l1 = nn.Linear(n_input, n_output)\n",
    "        self.l1.weight.data.fill_(1.0)\n",
    "        self.l1.bias.data.fill_(1.0)\n",
    "\n",
    "    def forward(self, x):\n",
    "        x = self.l1(x)\n",
    "        return x\n",
    "\n",
    "# 入力データと次元数\n",
    "inputs = t_iris_params_train\n",
    "n_input = inputs.shape[1]\n",
    "\n",
    "# 正解データ\n",
    "labels = t_iris_labels_train\n",
    "\n",
    "# 出力層の次元数=クラス数    \n",
    "n_output = len(np.unique(labels))\n",
    "\n",
    "# インスタンス化\n",
    "net = Net(n_input,n_output)\n"
   ]
  },
  {
   "cell_type": "code",
   "execution_count": 20,
   "metadata": {},
   "outputs": [],
   "source": [
    "\n",
    "# 損失関数\n",
    "criterion = nn.CrossEntropyLoss()\n",
    "\n",
    "# 最適化関数\n",
    "optimizer = optim.SGD(net.parameters(), lr=0.01)"
   ]
  },
  {
   "cell_type": "code",
   "execution_count": 21,
   "metadata": {},
   "outputs": [],
   "source": [
    "# 学習回数\n",
    "n_epoch = 10000\n",
    "\n",
    "# 評価結果を格納するリスト(エポック数、訓練データの損失、テストデータの損失、訓練データの正解率、テストデータの正解率)\n",
    "history = np.zeros((0,5))"
   ]
  },
  {
   "cell_type": "code",
   "execution_count": 22,
   "metadata": {},
   "outputs": [
    {
     "name": "stdout",
     "output_type": "stream",
     "text": [
      "epoch: 0, train_loss: 1.082, test_loss: 1.091, train_acc: 0.347, test_acc: 0.320\n",
      "epoch: 100, train_loss: 0.651, test_loss: 0.750, train_acc: 0.733, test_acc: 0.600\n",
      "epoch: 200, train_loss: 0.526, test_loss: 0.633, train_acc: 0.733, test_acc: 0.600\n",
      "epoch: 300, train_loss: 0.465, test_loss: 0.572, train_acc: 0.760, test_acc: 0.600\n",
      "epoch: 400, train_loss: 0.426, test_loss: 0.532, train_acc: 0.853, test_acc: 0.667\n",
      "epoch: 500, train_loss: 0.397, test_loss: 0.502, train_acc: 0.867, test_acc: 0.733\n",
      "epoch: 600, train_loss: 0.375, test_loss: 0.478, train_acc: 0.880, test_acc: 0.760\n",
      "epoch: 700, train_loss: 0.356, test_loss: 0.458, train_acc: 0.893, test_acc: 0.813\n",
      "epoch: 800, train_loss: 0.340, test_loss: 0.441, train_acc: 0.933, test_acc: 0.840\n",
      "epoch: 900, train_loss: 0.326, test_loss: 0.426, train_acc: 0.933, test_acc: 0.853\n",
      "epoch: 1000, train_loss: 0.313, test_loss: 0.413, train_acc: 0.933, test_acc: 0.867\n",
      "epoch: 1100, train_loss: 0.302, test_loss: 0.401, train_acc: 0.947, test_acc: 0.880\n",
      "epoch: 1200, train_loss: 0.292, test_loss: 0.390, train_acc: 0.947, test_acc: 0.880\n",
      "epoch: 1300, train_loss: 0.282, test_loss: 0.379, train_acc: 0.947, test_acc: 0.880\n",
      "epoch: 1400, train_loss: 0.274, test_loss: 0.370, train_acc: 0.947, test_acc: 0.907\n",
      "epoch: 1500, train_loss: 0.266, test_loss: 0.361, train_acc: 0.947, test_acc: 0.920\n",
      "epoch: 1600, train_loss: 0.259, test_loss: 0.353, train_acc: 0.947, test_acc: 0.933\n",
      "epoch: 1700, train_loss: 0.252, test_loss: 0.346, train_acc: 0.947, test_acc: 0.933\n",
      "epoch: 1800, train_loss: 0.245, test_loss: 0.338, train_acc: 0.973, test_acc: 0.960\n",
      "epoch: 1900, train_loss: 0.239, test_loss: 0.332, train_acc: 0.973, test_acc: 0.960\n",
      "epoch: 2000, train_loss: 0.234, test_loss: 0.325, train_acc: 0.973, test_acc: 0.960\n",
      "epoch: 2100, train_loss: 0.229, test_loss: 0.320, train_acc: 0.973, test_acc: 0.960\n",
      "epoch: 2200, train_loss: 0.224, test_loss: 0.314, train_acc: 0.973, test_acc: 0.960\n",
      "epoch: 2300, train_loss: 0.219, test_loss: 0.309, train_acc: 0.973, test_acc: 0.960\n",
      "epoch: 2400, train_loss: 0.215, test_loss: 0.304, train_acc: 0.973, test_acc: 0.960\n",
      "epoch: 2500, train_loss: 0.211, test_loss: 0.299, train_acc: 0.973, test_acc: 0.960\n",
      "epoch: 2600, train_loss: 0.207, test_loss: 0.294, train_acc: 0.973, test_acc: 0.960\n",
      "epoch: 2700, train_loss: 0.203, test_loss: 0.290, train_acc: 0.973, test_acc: 0.960\n",
      "epoch: 2800, train_loss: 0.199, test_loss: 0.286, train_acc: 0.973, test_acc: 0.960\n",
      "epoch: 2900, train_loss: 0.196, test_loss: 0.282, train_acc: 0.973, test_acc: 0.960\n",
      "epoch: 3000, train_loss: 0.193, test_loss: 0.278, train_acc: 0.987, test_acc: 0.960\n",
      "epoch: 3100, train_loss: 0.190, test_loss: 0.275, train_acc: 0.987, test_acc: 0.960\n",
      "epoch: 3200, train_loss: 0.187, test_loss: 0.271, train_acc: 0.987, test_acc: 0.960\n",
      "epoch: 3300, train_loss: 0.184, test_loss: 0.268, train_acc: 0.987, test_acc: 0.960\n",
      "epoch: 3400, train_loss: 0.181, test_loss: 0.265, train_acc: 0.987, test_acc: 0.960\n",
      "epoch: 3500, train_loss: 0.179, test_loss: 0.262, train_acc: 0.987, test_acc: 0.960\n",
      "epoch: 3600, train_loss: 0.176, test_loss: 0.259, train_acc: 0.987, test_acc: 0.960\n",
      "epoch: 3700, train_loss: 0.174, test_loss: 0.256, train_acc: 0.987, test_acc: 0.960\n",
      "epoch: 3800, train_loss: 0.172, test_loss: 0.253, train_acc: 0.987, test_acc: 0.960\n",
      "epoch: 3900, train_loss: 0.169, test_loss: 0.250, train_acc: 0.987, test_acc: 0.960\n",
      "epoch: 4000, train_loss: 0.167, test_loss: 0.248, train_acc: 0.987, test_acc: 0.960\n",
      "epoch: 4100, train_loss: 0.165, test_loss: 0.245, train_acc: 0.987, test_acc: 0.960\n",
      "epoch: 4200, train_loss: 0.163, test_loss: 0.243, train_acc: 0.987, test_acc: 0.960\n",
      "epoch: 4300, train_loss: 0.162, test_loss: 0.241, train_acc: 0.987, test_acc: 0.960\n",
      "epoch: 4400, train_loss: 0.160, test_loss: 0.239, train_acc: 0.987, test_acc: 0.960\n",
      "epoch: 4500, train_loss: 0.158, test_loss: 0.236, train_acc: 0.987, test_acc: 0.960\n",
      "epoch: 4600, train_loss: 0.156, test_loss: 0.234, train_acc: 0.987, test_acc: 0.960\n",
      "epoch: 4700, train_loss: 0.155, test_loss: 0.232, train_acc: 0.987, test_acc: 0.960\n",
      "epoch: 4800, train_loss: 0.153, test_loss: 0.230, train_acc: 0.987, test_acc: 0.960\n",
      "epoch: 4900, train_loss: 0.152, test_loss: 0.228, train_acc: 0.987, test_acc: 0.960\n",
      "epoch: 5000, train_loss: 0.150, test_loss: 0.227, train_acc: 0.987, test_acc: 0.960\n",
      "epoch: 5100, train_loss: 0.149, test_loss: 0.225, train_acc: 0.987, test_acc: 0.960\n",
      "epoch: 5200, train_loss: 0.147, test_loss: 0.223, train_acc: 0.987, test_acc: 0.960\n",
      "epoch: 5300, train_loss: 0.146, test_loss: 0.221, train_acc: 0.987, test_acc: 0.960\n",
      "epoch: 5400, train_loss: 0.145, test_loss: 0.220, train_acc: 0.987, test_acc: 0.960\n",
      "epoch: 5500, train_loss: 0.143, test_loss: 0.218, train_acc: 0.987, test_acc: 0.960\n",
      "epoch: 5600, train_loss: 0.142, test_loss: 0.216, train_acc: 0.987, test_acc: 0.960\n",
      "epoch: 5700, train_loss: 0.141, test_loss: 0.215, train_acc: 0.987, test_acc: 0.960\n",
      "epoch: 5800, train_loss: 0.140, test_loss: 0.213, train_acc: 0.987, test_acc: 0.960\n",
      "epoch: 5900, train_loss: 0.139, test_loss: 0.212, train_acc: 0.987, test_acc: 0.960\n",
      "epoch: 6000, train_loss: 0.138, test_loss: 0.211, train_acc: 0.987, test_acc: 0.960\n",
      "epoch: 6100, train_loss: 0.136, test_loss: 0.209, train_acc: 0.987, test_acc: 0.960\n",
      "epoch: 6200, train_loss: 0.135, test_loss: 0.208, train_acc: 0.987, test_acc: 0.960\n",
      "epoch: 6300, train_loss: 0.134, test_loss: 0.207, train_acc: 0.987, test_acc: 0.960\n",
      "epoch: 6400, train_loss: 0.133, test_loss: 0.205, train_acc: 0.987, test_acc: 0.960\n",
      "epoch: 6500, train_loss: 0.132, test_loss: 0.204, train_acc: 0.987, test_acc: 0.960\n",
      "epoch: 6600, train_loss: 0.132, test_loss: 0.203, train_acc: 0.987, test_acc: 0.960\n",
      "epoch: 6700, train_loss: 0.131, test_loss: 0.202, train_acc: 0.987, test_acc: 0.960\n",
      "epoch: 6800, train_loss: 0.130, test_loss: 0.200, train_acc: 0.987, test_acc: 0.960\n",
      "epoch: 6900, train_loss: 0.129, test_loss: 0.199, train_acc: 0.987, test_acc: 0.960\n",
      "epoch: 7000, train_loss: 0.128, test_loss: 0.198, train_acc: 0.987, test_acc: 0.960\n",
      "epoch: 7100, train_loss: 0.127, test_loss: 0.197, train_acc: 0.987, test_acc: 0.960\n",
      "epoch: 7200, train_loss: 0.126, test_loss: 0.196, train_acc: 0.987, test_acc: 0.960\n",
      "epoch: 7300, train_loss: 0.126, test_loss: 0.195, train_acc: 0.987, test_acc: 0.960\n",
      "epoch: 7400, train_loss: 0.125, test_loss: 0.194, train_acc: 0.987, test_acc: 0.960\n",
      "epoch: 7500, train_loss: 0.124, test_loss: 0.193, train_acc: 0.987, test_acc: 0.960\n",
      "epoch: 7600, train_loss: 0.123, test_loss: 0.192, train_acc: 0.987, test_acc: 0.960\n",
      "epoch: 7700, train_loss: 0.123, test_loss: 0.191, train_acc: 0.987, test_acc: 0.960\n",
      "epoch: 7800, train_loss: 0.122, test_loss: 0.190, train_acc: 0.987, test_acc: 0.960\n",
      "epoch: 7900, train_loss: 0.121, test_loss: 0.189, train_acc: 0.987, test_acc: 0.960\n",
      "epoch: 8000, train_loss: 0.120, test_loss: 0.188, train_acc: 0.987, test_acc: 0.960\n",
      "epoch: 8100, train_loss: 0.120, test_loss: 0.187, train_acc: 0.987, test_acc: 0.960\n",
      "epoch: 8200, train_loss: 0.119, test_loss: 0.186, train_acc: 0.987, test_acc: 0.960\n",
      "epoch: 8300, train_loss: 0.118, test_loss: 0.185, train_acc: 0.987, test_acc: 0.960\n",
      "epoch: 8400, train_loss: 0.118, test_loss: 0.184, train_acc: 0.987, test_acc: 0.960\n",
      "epoch: 8500, train_loss: 0.117, test_loss: 0.184, train_acc: 0.987, test_acc: 0.960\n",
      "epoch: 8600, train_loss: 0.117, test_loss: 0.183, train_acc: 0.987, test_acc: 0.960\n",
      "epoch: 8700, train_loss: 0.116, test_loss: 0.182, train_acc: 0.987, test_acc: 0.960\n",
      "epoch: 8800, train_loss: 0.115, test_loss: 0.181, train_acc: 0.987, test_acc: 0.960\n",
      "epoch: 8900, train_loss: 0.115, test_loss: 0.180, train_acc: 0.987, test_acc: 0.960\n",
      "epoch: 9000, train_loss: 0.114, test_loss: 0.180, train_acc: 0.987, test_acc: 0.960\n",
      "epoch: 9100, train_loss: 0.114, test_loss: 0.179, train_acc: 0.987, test_acc: 0.960\n",
      "epoch: 9200, train_loss: 0.113, test_loss: 0.178, train_acc: 0.987, test_acc: 0.960\n",
      "epoch: 9300, train_loss: 0.113, test_loss: 0.177, train_acc: 0.987, test_acc: 0.960\n",
      "epoch: 9400, train_loss: 0.112, test_loss: 0.177, train_acc: 0.987, test_acc: 0.960\n",
      "epoch: 9500, train_loss: 0.112, test_loss: 0.176, train_acc: 0.987, test_acc: 0.960\n",
      "epoch: 9600, train_loss: 0.111, test_loss: 0.175, train_acc: 0.987, test_acc: 0.960\n",
      "epoch: 9700, train_loss: 0.111, test_loss: 0.175, train_acc: 0.987, test_acc: 0.960\n",
      "epoch: 9800, train_loss: 0.110, test_loss: 0.174, train_acc: 0.987, test_acc: 0.960\n",
      "epoch: 9900, train_loss: 0.110, test_loss: 0.173, train_acc: 0.987, test_acc: 0.960\n"
     ]
    }
   ],
   "source": [
    "# 学習\n",
    "for epoch in range(n_epoch):\n",
    "    # 勾配を初期化\n",
    "    optimizer.zero_grad()\n",
    "    # 順伝播\n",
    "    outputs = net(inputs)\n",
    "    # 損失を計算\n",
    "    loss = criterion(outputs, labels)\n",
    "    # 誤差逆伝播\n",
    "    loss.backward()\n",
    "    # パラメータ更新\n",
    "    optimizer.step()\n",
    "    # 評価\n",
    "    if epoch % 100 == 0:\n",
    "        # 訓練データの損失\n",
    "        train_loss = criterion(net(inputs), labels).item()\n",
    "        # テストデータの損失\n",
    "        test_loss = criterion(net(t_iris_params_test), t_iris_labels_test).item()\n",
    "        # 訓練データの正解率\n",
    "        train_acc = (net(inputs).argmax(dim=1) == labels).float().mean().item()\n",
    "        # テストデータの正解率\n",
    "        test_acc = (net(t_iris_params_test).argmax(dim=1) == t_iris_labels_test).float().mean().item()\n",
    "        # 評価結果をリストに格納\n",
    "        history = np.vstack((history, np.array([epoch, train_loss, test_loss, train_acc, test_acc])))\n",
    "        # 経過を出力\n",
    "        print(\"epoch: {}, train_loss: {:.3f}, test_loss: {:.3f}, train_acc: {:.3f}, test_acc: {:.3f}\".format(epoch, train_loss, test_loss, train_acc, test_acc))\n",
    "        "
   ]
  },
  {
   "attachments": {},
   "cell_type": "markdown",
   "metadata": {},
   "source": [
    "### `net(t_iris_params_test).argmax(dim=1) == t_iris_labels_test).float().mean().item()`の解説\n",
    "\n",
    "net(inputs) は inputs をモデルに入力した際の出力（予測値）を返します。そして、.argmax(dim=1) は、各入力に対しての予測値の中で最も確率の高いクラスを選択し、そのクラスのインデックスを返します。これにより、各入力に対しての予測ラベルが得られます。\n",
    "\n",
    "次に、== labels は、各入力に対する予測ラベルと、それぞれの正解ラベル labels を比較し、同じラベルであるかどうかを判定します。この結果は、True/False のテンソルで返されます。\n",
    "\n",
    "その後、.float() により、True/False のテンソルを1.0/0.0のfloat型のテンソルに変換します。そして、.mean() により、各入力に対する正解率を計算します。最後に、.item() を呼び出すことで、正解率をPythonのfloat型の値として取得できます。\n"
   ]
  },
  {
   "cell_type": "code",
   "execution_count": 33,
   "metadata": {},
   "outputs": [
    {
     "name": "stdout",
     "output_type": "stream",
     "text": [
      "初期状態: 損失: 0.34667 精度: 0.32000\n",
      "最終状態: 損失: 0.98667 精度: 0.96000\n"
     ]
    }
   ],
   "source": [
    "#損失と精度の確認\n",
    "\n",
    "print(f'初期状態: 損失: {history[0,3]:.5f} 精度: {history[0,4]:.5f}' )\n",
    "print(f'最終状態: 損失: {history[-1,3]:.5f} 精度: {history[-1,4]:.5f}' )\n"
   ]
  },
  {
   "cell_type": "code",
   "execution_count": 24,
   "metadata": {},
   "outputs": [
    {
     "data": {
      "image/png": "[encoded data removed]",
      "text/plain": [
       "<Figure size 640x480 with 1 Axes>"
      ]
     },
     "metadata": {},
     "output_type": "display_data"
    }
   ],
   "source": [
    "# 学習曲線(損失)の表示\n",
    "plt.plot(history[:,0], history[:,1], label=\"train_loss\")\n",
    "plt.plot(history[:,0], history[:,2], label=\"test_loss\")\n",
    "plt.xlabel(\"epoch\")\n",
    "plt.ylabel(\"loss\")\n",
    "plt.legend()\n",
    "plt.show()"
   ]
  },
  {
   "cell_type": "code",
   "execution_count": 25,
   "metadata": {},
   "outputs": [
    {
     "data": {
      "image/png": "[encoded data removed]",
      "text/plain": [
       "<Figure size 640x480 with 1 Axes>"
      ]
     },
     "metadata": {},
     "output_type": "display_data"
    }
   ],
   "source": [
    "# 学習曲線(正解率)の表示\n",
    "plt.plot(history[:,0], history[:,3], label=\"train_acc\")\n",
    "plt.plot(history[:,0], history[:,4], label=\"test_acc\")\n",
    "plt.xlabel(\"epoch\")\n",
    "plt.ylabel(\"accuracy\")\n",
    "plt.legend()\n",
    "plt.show()"
   ]
  },
  {
   "cell_type": "code",
   "execution_count": null,
   "metadata": {},
   "outputs": [],
   "source": []
  }
 ],
 "metadata": {
  "kernelspec": {
   "display_name": "Python 3 (ipykernel)",
   "language": "python",
   "name": "python3"
  },
  "language_info": {
   "codemirror_mode": {
    "name": "ipython",
    "version": 3
   },
   "file_extension": ".py",
   "mimetype": "text/x-python",
   "name": "python",
   "nbconvert_exporter": "python",
   "pygments_lexer": "ipython3",
   "version": "3.9.13"
  },
  "orig_nbformat": 4
 },
 "nbformat": 4,
 "nbformat_minor": 2
}
