{
 "cells": [
  {
   "cell_type": "code",
   "execution_count": 14,
   "metadata": {},
   "outputs": [],
   "source": [
    "# 必要なライブラリのインポート\n",
    "import numpy as np          # 数値計算ライブラリ\n",
    "import matplotlib.pyplot as plt    # グラフ描画ライブラリ\n",
    "import torch                 # 機械学習ライブラリPyTorch\n",
    "from torch import nn        # PyTorchのニューラルネットワークモジュール\n",
    "from torchviz import make_dot      # PyTorchのグラフ可視化ツール\n",
    "import japanize_matplotlib  # matplotlibの日本語表示を可能にするライブラリ\n",
    "import torch.optim as optim # PyTorchの最適化アルゴリズムを定義するoptimモジュール\n",
    "import pandas as pd         # データフレーム処理のためのライブラリ\n",
    "import sklearn              # 機械学習ライブラリscikit-learn\n",
    "from torchinfo import summary   # モデルのサマリー情報を表示するためのライブラリ\n",
    "from sklearn.model_selection import train_test_split  # データのトレーニングとテストの分割を行う関数\n",
    "from sklearn.metrics import accuracy_score   # 正解率を計算するための関数\n",
    "import torchvision.datasets as datasets # PyTorchのデータセットモジュール\n",
    "import torchvision.transforms as transforms # PyTorchのデータ変換モジュール\n"
   ]
  },
  {
   "cell_type": "code",
   "execution_count": 15,
   "metadata": {},
   "outputs": [
    {
     "name": "stdout",
     "output_type": "stream",
     "text": [
      "cpu\n"
     ]
    }
   ],
   "source": [
    "#  GPUが利用可能かチェックし、使用できる場合はデバイスにセット\n",
    "device = torch.device(\"cuda:0\" if torch.cuda.is_available() else \"cpu\")\n",
    "print(device)"
   ]
  },
  {
   "cell_type": "code",
   "execution_count": 18,
   "metadata": {},
   "outputs": [
    {
     "name": "stdout",
     "output_type": "stream",
     "text": [
      "Downloading https://www.cs.toronto.edu/~kriz/cifar-10-python.tar.gz to ./CIFAR_data/cifar-10-python.tar.gz\n"
     ]
    },
    {
     "name": "stderr",
     "output_type": "stream",
     "text": [
      "100%|██████████| 170498071/170498071 [03:58<00:00, 715123.67it/s] \n"
     ]
    },
    {
     "name": "stdout",
     "output_type": "stream",
     "text": [
      "Extracting ./CIFAR_data/cifar-10-python.tar.gz to ./CIFAR_data/\n",
      "Files already downloaded and verified\n",
      "Files already downloaded and verified\n",
      "Files already downloaded and verified\n"
     ]
    }
   ],
   "source": [
    "# transformの定義\n",
    "\n",
    "# 全結合型ニューラルネットワークの入力に合うように、画像を1次元に変換するtransform\n",
    "\n",
    "transform1 = transforms.Compose([\n",
    "    transforms.ToTensor(),  # テンソルに変換\n",
    "    transforms.Normalize(0.5, 0.5), # 正規化\n",
    "    transforms.Lambda(lambda x: x.view(-1)) # 1次元に変換\n",
    "])\n",
    "\n",
    "# 正規化のみを行うtransform\n",
    "transform2 = transforms.Compose([\n",
    "    transforms.ToTensor(),  # テンソルに変換\n",
    "    transforms.Normalize(0.5, 0.5) # 正規化\n",
    "])\n",
    "\n",
    "\n",
    "# データセットの読み込み\n",
    "\n",
    "data_root = './CIFAR_data/'   # データセットのルートディレクトリ\n",
    "\n",
    "# 訓練データセット1階テンソル版\n",
    "train_set1 = datasets.CIFAR10(root=data_root, train=True, download=True, transform=transform1)\n",
    "\n",
    "# 検証データセット1階テンソル版\n",
    "test_set1 = datasets.CIFAR10(root=data_root, train=False, download=True, transform=transform1)\n",
    "\n",
    "# 訓練データセット3階テンソル版\n",
    "train_set2 = datasets.CIFAR10(root=data_root, train=True, download=True, transform=transform2)\n",
    "\n",
    "# 検証データセット3階テンソル版\n",
    "test_set2 = datasets.CIFAR10(root=data_root, train=False, download=True, transform=transform2)"
   ]
  },
  {
   "cell_type": "code",
   "execution_count": 21,
   "metadata": {},
   "outputs": [
    {
     "name": "stdout",
     "output_type": "stream",
     "text": [
      "Files already downloaded and verified\n"
     ]
    }
   ],
   "source": [
    "train_set0 = datasets.CIFAR10(root=data_root, train=True, download=True)"
   ]
  },
  {
   "cell_type": "code",
   "execution_count": 27,
   "metadata": {},
   "outputs": [
    {
     "name": "stdout",
     "output_type": "stream",
     "text": [
      "Files already downloaded and verified\n"
     ]
    },
    {
     "ename": "AttributeError",
     "evalue": "'CIFAR10' object has no attribute 'train_dataset'",
     "output_type": "error",
     "traceback": [
      "\u001b[0;31m---------------------------------------------------------------------------\u001b[0m",
      "\u001b[0;31mAttributeError\u001b[0m                            Traceback (most recent call last)",
      "\u001b[0;32m/tmp/ipykernel_3040/1068392947.py\u001b[0m in \u001b[0;36m<module>\u001b[0;34m\u001b[0m\n\u001b[1;32m      5\u001b[0m \u001b[0;34m\u001b[0m\u001b[0m\n\u001b[1;32m      6\u001b[0m \u001b[0;31m# 属性を出力します\u001b[0m\u001b[0;34m\u001b[0m\u001b[0;34m\u001b[0m\u001b[0m\n\u001b[0;32m----> 7\u001b[0;31m \u001b[0mprint\u001b[0m\u001b[0;34m(\u001b[0m\u001b[0;34m\"train_data: \"\u001b[0m\u001b[0;34m,\u001b[0m \u001b[0mcifar10\u001b[0m\u001b[0;34m.\u001b[0m\u001b[0mtrain_dataset\u001b[0m\u001b[0;34m)\u001b[0m\u001b[0;34m\u001b[0m\u001b[0;34m\u001b[0m\u001b[0m\n\u001b[0m\u001b[1;32m      8\u001b[0m \u001b[0mprint\u001b[0m\u001b[0;34m(\u001b[0m\u001b[0;34m\"train_labels: \"\u001b[0m\u001b[0;34m,\u001b[0m \u001b[0mcifar10\u001b[0m\u001b[0;34m.\u001b[0m\u001b[0mtrain_labels\u001b[0m\u001b[0;34m)\u001b[0m\u001b[0;34m\u001b[0m\u001b[0;34m\u001b[0m\u001b[0m\n\u001b[1;32m      9\u001b[0m \u001b[0mprint\u001b[0m\u001b[0;34m(\u001b[0m\u001b[0;34m\"test_data: \"\u001b[0m\u001b[0;34m,\u001b[0m \u001b[0mcifar10\u001b[0m\u001b[0;34m.\u001b[0m\u001b[0mtest_data\u001b[0m\u001b[0;34m)\u001b[0m\u001b[0;34m\u001b[0m\u001b[0;34m\u001b[0m\u001b[0m\n",
      "\u001b[0;31mAttributeError\u001b[0m: 'CIFAR10' object has no attribute 'train_dataset'"
     ]
    }
   ],
   "source": [
    "import torchvision.datasets as datasets\n",
    "\n",
    "# CIFAR10 データセットを読み込みます\n",
    "cifar10 = datasets.CIFAR10(root='./data', train=True, download=True)\n",
    "\n",
    "# 属性を出力します\n",
    "print(\"train_data: \", cifar10.train_data)\n",
    "print(\"train_labels: \", cifar10.train_labels)\n",
    "print(\"test_data: \", cifar10.test_data)\n",
    "print(\"test_labels: \", cifar10.test_labels)\n",
    "print(\"classes: \", cifar10.classes)\n",
    "print(\"class_to_idx: \", cifar10.class_to_idx)\n",
    "print(\"transforms: \", cifar10.transforms)\n",
    "\n",
    "# メソッドを出力します\n",
    "print(\"__getitem__(): \", cifar10.__getitem__)\n",
    "print(\"__len__(): \", cifar10.__len__)\n",
    "print(\"download(): \", cifar10.download())\n",
    "print(\"transform(): \", cifar10.transform)\n",
    "print(\"targets_to_indices(): \", cifar10.targets_to_indices)\n",
    "print(\"indices_to_targets(): \", cifar10.indices_to_targets)\n"
   ]
  },
  {
   "cell_type": "code",
   "execution_count": null,
   "metadata": {},
   "outputs": [],
   "source": []
  }
 ],
 "metadata": {
  "kernelspec": {
   "display_name": "Python 3 (ipykernel)",
   "language": "python",
   "name": "python3"
  },
  "language_info": {
   "codemirror_mode": {
    "name": "ipython",
    "version": 3
   },
   "file_extension": ".py",
   "mimetype": "text/x-python",
   "name": "python",
   "nbconvert_exporter": "python",
   "pygments_lexer": "ipython3",
   "version": "3.9.13"
  },
  "orig_nbformat": 4
 },
 "nbformat": 4,
 "nbformat_minor": 2
}
