{
 "cells": [
  {
   "cell_type": "markdown",
   "id": "2237b4ad-c8a9-45df-b9a7-0da1bc8322f8",
   "metadata": {},
   "source": [
    "# 線型単回帰でうまく行かない例"
   ]
  },
  {
   "cell_type": "code",
   "execution_count": 1,
   "id": "1e8bc738-51ee-452b-9468-8027c583eb1b",
   "metadata": {
    "tags": []
   },
   "outputs": [],
   "source": [
    "import numpy as np\n",
    "import matplotlib.pyplot as plt\n",
    "import torch\n",
    "from torchviz import make_dot\n",
    "import japanize_matplotlib\n",
    "import torch.optim as optim"
   ]
  },
  {
   "cell_type": "markdown",
   "id": "2ee6bb84-6e1a-438f-85b2-ff4fc5a69b3d",
   "metadata": {
    "tags": []
   },
   "source": [
    "## データの入力"
   ]
  },
  {
   "cell_type": "code",
   "execution_count": 2,
   "id": "2c7d6076-7b80-450d-aa66-1d7d628f9051",
   "metadata": {
    "tags": []
   },
   "outputs": [],
   "source": [
    "np.random.seed(123)\n",
    "x = np.random.randn(100,1)\n",
    "y = x**2 + np.random.randn(100,1)*0.1\n",
    "\n",
    "x_train = x[:50,:]\n",
    "x_test = x[50:,:]\n",
    "y_train = y[:50,:]\n",
    "y_test = y[50:,:]"
   ]
  },
  {
   "cell_type": "code",
   "execution_count": 3,
   "id": "05097066-38ac-471a-a403-972799bab7ad",
   "metadata": {
    "tags": []
   },
   "outputs": [
    {
     "data": {
      "image/png": "[encoded data removed]",
      "text/plain": [
       "<Figure size 640x480 with 1 Axes>"
      ]
     },
     "metadata": {},
     "output_type": "display_data"
    }
   ],
   "source": [
    "plt.scatter(x_train,y_train,c='b',label='訓練データ')\n",
    "plt.scatter(x_test,y_test,c='k',marker='x',label='検証データ')\n",
    "plt.grid(True)\n",
    "plt.legend()\n",
    "plt.show()"
   ]
  },
  {
   "cell_type": "markdown",
   "id": "ed4f7279-9212-4cef-9d61-ca5556c053b3",
   "metadata": {},
   "source": [
    "## 線型回帰モデルの場合"
   ]
  },
  {
   "cell_type": "code",
   "execution_count": 4,
   "id": "53129b8f-8a3c-4345-8d6f-55fc9d2abbc1",
   "metadata": {
    "tags": []
   },
   "outputs": [],
   "source": [
    "# テンソルに変換\n",
    "X_train = torch.tensor(x_train).float()\n",
    "X_test = torch.tensor(x_test).float()\n",
    "Y_train = torch.tensor(y_train).float()\n",
    "Y_test = torch.tensor(y_test).float()\n",
    "\n",
    "# 重みとバイアスの初期化\n",
    "W = torch.tensor(1.0, requires_grad=True).float()\n",
    "B = torch.tensor(1.0, requires_grad=True).float()\n",
    "\n",
    "# 学習の設定\n",
    "num_epochs = 500\n",
    "lr = 0.001\n",
    "\n",
    "# 学習の履歴を保存するための配列\n",
    "history = np.zeros((0, 2))  # 0行2列の配列\n",
    "\n",
    "# 最適化アルゴリズムの設定\n",
    "optimizer = optim.SGD([W, B], lr=lr)"
   ]
  },
  {
   "cell_type": "markdown",
   "id": "480aa530-3ca1-41b9-85c4-744e772bab7d",
   "metadata": {},
   "source": [
    "<details>\n",
    "<summary>上のコードの解説</summary>\n",
    "このコードは、PyTorchを使用して単純な線形回帰モデルを定義しています。\n",
    "\n",
    "WとBは、それぞれ重みとバイアスを表すテンソルであり、requires_grad=Trueを指定することで、自動微分による勾配計算が可能になります。\n",
    "\n",
    "num_epochsはエポック数、lrは学習率を表しています。\n",
    "\n",
    "historyは、学習の履歴を保存するための配列です。ここでは、0行2列の配列を作成しています。\n",
    "\n",
    "最適化アルゴリズムには、確率的勾配降下法（SGD）を使用しています。optim.SGDを使用して、パラメータWとBを更新するための最適化器を定義しています。\n",
    "</details>"
   ]
  },
  {
   "cell_type": "code",
   "execution_count": 5,
   "id": "8ffd2cea-c2b8-43ff-8fd3-3f02bddcdcf1",
   "metadata": {
    "tags": []
   },
   "outputs": [
    {
     "data": {
      "image/svg+xml": [
       "<?xml version=\"1.0\" encoding=\"UTF-8\" standalone=\"no\"?>\n",
       "<!DOCTYPE svg PUBLIC \"-//W3C//DTD SVG 1.1//EN\"\n",
       " \"http://www.w3.org/Graphics/SVG/1.1/DTD/svg11.dtd\">\n",
       "<!-- Generated by graphviz version 2.40.1 (20161225.0304)\n",
       " -->\n",
       "<!-- Title: %3 Pages: 1 -->\n",
       "<svg width=\"222pt\" height=\"446pt\"\n",
       " viewBox=\"0.00 0.00 222.00 446.00\" xmlns=\"http://www.w3.org/2000/svg\" xmlns:xlink=\"http://www.w3.org/1999/xlink\">\n",
       "<g id=\"graph0\" class=\"graph\" transform=\"scale(1 1) rotate(0) translate(4 442)\">\n",
       "<title>%3</title>\n",
       "<polygon fill=\"#ffffff\" stroke=\"transparent\" points=\"-4,4 -4,-442 218,-442 218,4 -4,4\"/>\n",
       "<!-- 140523185024592 -->\n",
       "<g id=\"node1\" class=\"node\">\n",
       "<title>140523185024592</title>\n",
       "<polygon fill=\"#caff70\" stroke=\"#000000\" points=\"133.5,-31 79.5,-31 79.5,0 133.5,0 133.5,-31\"/>\n",
       "<text text-anchor=\"middle\" x=\"106.5\" y=\"-7\" font-family=\"monospace\" font-size=\"10.00\" fill=\"#000000\"> ()</text>\n",
       "</g>\n",
       "<!-- 140520291744544 -->\n",
       "<g id=\"node2\" class=\"node\">\n",
       "<title>140520291744544</title>\n",
       "<polygon fill=\"#d3d3d3\" stroke=\"#000000\" points=\"154,-86 59,-86 59,-67 154,-67 154,-86\"/>\n",
       "<text text-anchor=\"middle\" x=\"106.5\" y=\"-74\" font-family=\"monospace\" font-size=\"10.00\" fill=\"#000000\">MeanBackward0</text>\n",
       "</g>\n",
       "<!-- 140520291744544&#45;&gt;140523185024592 -->\n",
       "<g id=\"edge9\" class=\"edge\">\n",
       "<title>140520291744544&#45;&gt;140523185024592</title>\n",
       "<path fill=\"none\" stroke=\"#000000\" d=\"M106.5,-66.9688C106.5,-60.1289 106.5,-50.5621 106.5,-41.5298\"/>\n",
       "<polygon fill=\"#000000\" stroke=\"#000000\" points=\"110.0001,-41.3678 106.5,-31.3678 103.0001,-41.3678 110.0001,-41.3678\"/>\n",
       "</g>\n",
       "<!-- 140520292884048 -->\n",
       "<g id=\"node3\" class=\"node\">\n",
       "<title>140520292884048</title>\n",
       "<polygon fill=\"#d3d3d3\" stroke=\"#000000\" points=\"151,-141 62,-141 62,-122 151,-122 151,-141\"/>\n",
       "<text text-anchor=\"middle\" x=\"106.5\" y=\"-129\" font-family=\"monospace\" font-size=\"10.00\" fill=\"#000000\">PowBackward0</text>\n",
       "</g>\n",
       "<!-- 140520292884048&#45;&gt;140520291744544 -->\n",
       "<g id=\"edge1\" class=\"edge\">\n",
       "<title>140520292884048&#45;&gt;140520291744544</title>\n",
       "<path fill=\"none\" stroke=\"#000000\" d=\"M106.5,-121.9197C106.5,-114.9083 106.5,-105.1442 106.5,-96.4652\"/>\n",
       "<polygon fill=\"#000000\" stroke=\"#000000\" points=\"110.0001,-96.3408 106.5,-86.3408 103.0001,-96.3409 110.0001,-96.3408\"/>\n",
       "</g>\n",
       "<!-- 140520291744496 -->\n",
       "<g id=\"node4\" class=\"node\">\n",
       "<title>140520291744496</title>\n",
       "<polygon fill=\"#d3d3d3\" stroke=\"#000000\" points=\"151,-196 62,-196 62,-177 151,-177 151,-196\"/>\n",
       "<text text-anchor=\"middle\" x=\"106.5\" y=\"-184\" font-family=\"monospace\" font-size=\"10.00\" fill=\"#000000\">SubBackward0</text>\n",
       "</g>\n",
       "<!-- 140520291744496&#45;&gt;140520292884048 -->\n",
       "<g id=\"edge2\" class=\"edge\">\n",
       "<title>140520291744496&#45;&gt;140520292884048</title>\n",
       "<path fill=\"none\" stroke=\"#000000\" d=\"M106.5,-176.9197C106.5,-169.9083 106.5,-160.1442 106.5,-151.4652\"/>\n",
       "<polygon fill=\"#000000\" stroke=\"#000000\" points=\"110.0001,-151.3408 106.5,-141.3408 103.0001,-151.3409 110.0001,-151.3408\"/>\n",
       "</g>\n",
       "<!-- 140523148904096 -->\n",
       "<g id=\"node5\" class=\"node\">\n",
       "<title>140523148904096</title>\n",
       "<polygon fill=\"#d3d3d3\" stroke=\"#000000\" points=\"151,-251 62,-251 62,-232 151,-232 151,-251\"/>\n",
       "<text text-anchor=\"middle\" x=\"106.5\" y=\"-239\" font-family=\"monospace\" font-size=\"10.00\" fill=\"#000000\">AddBackward0</text>\n",
       "</g>\n",
       "<!-- 140523148904096&#45;&gt;140520291744496 -->\n",
       "<g id=\"edge3\" class=\"edge\">\n",
       "<title>140523148904096&#45;&gt;140520291744496</title>\n",
       "<path fill=\"none\" stroke=\"#000000\" d=\"M106.5,-231.9197C106.5,-224.9083 106.5,-215.1442 106.5,-206.4652\"/>\n",
       "<polygon fill=\"#000000\" stroke=\"#000000\" points=\"110.0001,-206.3408 106.5,-196.3408 103.0001,-206.3409 110.0001,-206.3408\"/>\n",
       "</g>\n",
       "<!-- 140523148902800 -->\n",
       "<g id=\"node6\" class=\"node\">\n",
       "<title>140523148902800</title>\n",
       "<polygon fill=\"#d3d3d3\" stroke=\"#000000\" points=\"95,-306 6,-306 6,-287 95,-287 95,-306\"/>\n",
       "<text text-anchor=\"middle\" x=\"50.5\" y=\"-294\" font-family=\"monospace\" font-size=\"10.00\" fill=\"#000000\">MulBackward0</text>\n",
       "</g>\n",
       "<!-- 140523148902800&#45;&gt;140523148904096 -->\n",
       "<g id=\"edge4\" class=\"edge\">\n",
       "<title>140523148902800&#45;&gt;140523148904096</title>\n",
       "<path fill=\"none\" stroke=\"#000000\" d=\"M60.2545,-286.9197C68.1865,-279.1293 79.5788,-267.9405 89.0712,-258.6176\"/>\n",
       "<polygon fill=\"#000000\" stroke=\"#000000\" points=\"91.7982,-260.845 96.4802,-251.3408 86.8932,-255.8509 91.7982,-260.845\"/>\n",
       "</g>\n",
       "<!-- 140520291529152 -->\n",
       "<g id=\"node7\" class=\"node\">\n",
       "<title>140520291529152</title>\n",
       "<polygon fill=\"#d3d3d3\" stroke=\"#000000\" points=\"101,-366.5 0,-366.5 0,-347.5 101,-347.5 101,-366.5\"/>\n",
       "<text text-anchor=\"middle\" x=\"50.5\" y=\"-354.5\" font-family=\"monospace\" font-size=\"10.00\" fill=\"#000000\">AccumulateGrad</text>\n",
       "</g>\n",
       "<!-- 140520291529152&#45;&gt;140523148902800 -->\n",
       "<g id=\"edge5\" class=\"edge\">\n",
       "<title>140520291529152&#45;&gt;140523148902800</title>\n",
       "<path fill=\"none\" stroke=\"#000000\" d=\"M50.5,-347.2796C50.5,-339.0376 50.5,-326.9457 50.5,-316.629\"/>\n",
       "<polygon fill=\"#000000\" stroke=\"#000000\" points=\"54.0001,-316.3972 50.5,-306.3972 47.0001,-316.3973 54.0001,-316.3972\"/>\n",
       "</g>\n",
       "<!-- 140520290671968 -->\n",
       "<g id=\"node8\" class=\"node\">\n",
       "<title>140520290671968</title>\n",
       "<polygon fill=\"#add8e6\" stroke=\"#000000\" points=\"77.5,-438 23.5,-438 23.5,-408 77.5,-408 77.5,-438\"/>\n",
       "<text text-anchor=\"middle\" x=\"50.5\" y=\"-426\" font-family=\"monospace\" font-size=\"10.00\" fill=\"#000000\">W</text>\n",
       "<text text-anchor=\"middle\" x=\"50.5\" y=\"-415\" font-family=\"monospace\" font-size=\"10.00\" fill=\"#000000\"> ()</text>\n",
       "</g>\n",
       "<!-- 140520290671968&#45;&gt;140520291529152 -->\n",
       "<g id=\"edge6\" class=\"edge\">\n",
       "<title>140520290671968&#45;&gt;140520291529152</title>\n",
       "<path fill=\"none\" stroke=\"#000000\" d=\"M50.5,-407.6924C50.5,-398.5067 50.5,-386.7245 50.5,-376.8312\"/>\n",
       "<polygon fill=\"#000000\" stroke=\"#000000\" points=\"54.0001,-376.703 50.5,-366.7031 47.0001,-376.7031 54.0001,-376.703\"/>\n",
       "</g>\n",
       "<!-- 140523148905296 -->\n",
       "<g id=\"node9\" class=\"node\">\n",
       "<title>140523148905296</title>\n",
       "<polygon fill=\"#d3d3d3\" stroke=\"#000000\" points=\"214,-306 113,-306 113,-287 214,-287 214,-306\"/>\n",
       "<text text-anchor=\"middle\" x=\"163.5\" y=\"-294\" font-family=\"monospace\" font-size=\"10.00\" fill=\"#000000\">AccumulateGrad</text>\n",
       "</g>\n",
       "<!-- 140523148905296&#45;&gt;140523148904096 -->\n",
       "<g id=\"edge7\" class=\"edge\">\n",
       "<title>140523148905296&#45;&gt;140523148904096</title>\n",
       "<path fill=\"none\" stroke=\"#000000\" d=\"M153.5714,-286.9197C145.4169,-279.0514 133.6697,-267.7164 123.9508,-258.3385\"/>\n",
       "<polygon fill=\"#000000\" stroke=\"#000000\" points=\"126.3252,-255.7659 116.6987,-251.3408 121.4646,-260.8032 126.3252,-255.7659\"/>\n",
       "</g>\n",
       "<!-- 140523206894352 -->\n",
       "<g id=\"node10\" class=\"node\">\n",
       "<title>140523206894352</title>\n",
       "<polygon fill=\"#add8e6\" stroke=\"#000000\" points=\"190.5,-372 136.5,-372 136.5,-342 190.5,-342 190.5,-372\"/>\n",
       "<text text-anchor=\"middle\" x=\"163.5\" y=\"-360\" font-family=\"monospace\" font-size=\"10.00\" fill=\"#000000\">B</text>\n",
       "<text text-anchor=\"middle\" x=\"163.5\" y=\"-349\" font-family=\"monospace\" font-size=\"10.00\" fill=\"#000000\"> ()</text>\n",
       "</g>\n",
       "<!-- 140523206894352&#45;&gt;140523148905296 -->\n",
       "<g id=\"edge8\" class=\"edge\">\n",
       "<title>140523206894352&#45;&gt;140523148905296</title>\n",
       "<path fill=\"none\" stroke=\"#000000\" d=\"M163.5,-341.7333C163.5,-334.0322 163.5,-324.5977 163.5,-316.3414\"/>\n",
       "<polygon fill=\"#000000\" stroke=\"#000000\" points=\"167.0001,-316.0864 163.5,-306.0864 160.0001,-316.0864 167.0001,-316.0864\"/>\n",
       "</g>\n",
       "</g>\n",
       "</svg>\n"
      ],
      "text/plain": [
       "<graphviz.graphs.Digraph at 0x7fcd6e241fd0>"
      ]
     },
     "metadata": {},
     "output_type": "display_data"
    }
   ],
   "source": [
    "# Xに対して、重みWとバイアスBを用いた線形回帰の予測値を返す関数\n",
    "def pred(X):\n",
    "    return W*X+B\n",
    "\n",
    "# 二乗誤差を計算する関数\n",
    "def mse(Yp,Y):\n",
    "    loss=((Yp-Y)**2).mean()\n",
    "    return loss\n",
    "\n",
    "# トレーニングデータX_trainに対して、予測値Ypを計算する\n",
    "Yp=pred(X_train)\n",
    "\n",
    "# トレーニングデータX_train、正解データY_trainを用いて、二乗誤差を計算する\n",
    "loss=mse(Yp,Y_train)\n",
    "\n",
    "# 重みWとバイアスBの値をparamsに格納する\n",
    "params = {'W':W,'B':B} \n",
    "\n",
    "# グラフの生成\n",
    "g=make_dot(loss,params=params)\n",
    "\n",
    "# グラフの表示\n",
    "display(g)"
   ]
  },
  {
   "cell_type": "code",
   "execution_count": 6,
   "id": "07f2cb9a-9740-42b8-80f7-01c9e42e7933",
   "metadata": {
    "tags": []
   },
   "outputs": [
    {
     "name": "stdout",
     "output_type": "stream",
     "text": [
      "W =  0.2839339\n",
      "B =  1.2660173\n",
      "初期状態: 損失:4.6571\n",
      "最終状態: 損失:3.3214\n"
     ]
    }
   ],
   "source": [
    "for epoch in range(num_epochs):\n",
    "    # 予測値の計算\n",
    "    Yp = pred(X_train)\n",
    "    \n",
    "    # 損失関数の計算\n",
    "    loss = mse(Yp, Y_train)\n",
    "    \n",
    "    # 勾配の計算\n",
    "    loss.backward()\n",
    "    \n",
    "    # パラメータの更新\n",
    "    optimizer.step()\n",
    "    \n",
    "    # 勾配の初期化\n",
    "    optimizer.zero_grad()\n",
    "    \n",
    "    # 学習の履歴を保存\n",
    "    if(epoch % 10 == 0):\n",
    "        item = np.array([epoch, loss.item()])\n",
    "        history = np.vstack((history, item))\n",
    "\n",
    "# 学習結果の表示\n",
    "print('W = ', W.data.numpy())\n",
    "print('B = ', B.data.numpy())\n",
    "print(f'初期状態: 損失:{history[0,1]:.4f}')\n",
    "print(f'最終状態: 損失:{history[-1,1]:.4f}')"
   ]
  },
  {
   "cell_type": "code",
   "execution_count": 7,
   "id": "c891d0cf-f91f-4011-97fa-de535aa24e7c",
   "metadata": {
    "tags": []
   },
   "outputs": [
    {
     "data": {
      "image/png": "[encoded data removed]",
      "text/plain": [
       "<Figure size 640x480 with 1 Axes>"
      ]
     },
     "metadata": {},
     "output_type": "display_data"
    }
   ],
   "source": [
    "# グラフの描画\n",
    "plt.scatter(x_test,pred(X_test).detach().numpy(),c='b',label='予想値')\n",
    "plt.scatter(x_test,y_test,c='k',marker='x',label='正解値')\n",
    "plt.grid(True)\n",
    "plt.legend()\n",
    "plt.show()"
   ]
  }
 ],
 "metadata": {
  "kernelspec": {
   "display_name": "Python 3 (ipykernel)",
   "language": "python",
   "name": "python3"
  },
  "language_info": {
   "codemirror_mode": {
    "name": "ipython",
    "version": 3
   },
   "file_extension": ".py",
   "mimetype": "text/x-python",
   "name": "python",
   "nbconvert_exporter": "python",
   "pygments_lexer": "ipython3",
   "version": "3.9.13"
  }
 },
 "nbformat": 4,
 "nbformat_minor": 5
}
